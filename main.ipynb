{
 "cells": [
  {
   "attachments": {},
   "cell_type": "markdown",
   "metadata": {},
   "source": [
    "# 1. CRAWLER"
   ]
  },
  {
   "cell_type": "code",
   "execution_count": 32,
   "metadata": {},
   "outputs": [],
   "source": [
    "# crawl code\n",
    "\n",
    "import requests\n",
    "from bs4 import BeautifulSoup\n",
    "from openpyxl import Workbook\n",
    "\n",
    "def get_last_page_num(keyword,term):\n",
    "    max = 500\n",
    "    page_num = 1\n",
    "    try:\n",
    "        for i in range(1, max * 10, 10):\n",
    "            response = requests.get(f\"https://search.naver.com/search.naver?where=news&sm=tab_jum&query={keyword}&start={i}&pd={term}\",headers={'User-Agent':'Mozilla/5.0'})\n",
    "            html = response.text\n",
    "            soup = BeautifulSoup(html, \"html.parser\")\n",
    "            btn_next = soup.select_one(\"a.btn_next\")\n",
    "            if(btn_next == None):\n",
    "                return 0\n",
    "            is_last_page = btn_next.attrs[\"aria-disabled\"]\n",
    "            if is_last_page == \"true\":\n",
    "                break\n",
    "\n",
    "            page_num += 1\n",
    "    except:\n",
    "        pass\n",
    "    return page_num\n",
    "\n",
    "\n",
    "def crawler(keyword, lastpage, term):\n",
    "    wb = Workbook()\n",
    "    if(keyword==\"다.\"):\n",
    "        total_sheet = wb.create_sheet(\"전체\")\n",
    "    else:\n",
    "        total_sheet = wb.create_sheet(keyword)\n",
    "    total_sheet.column_dimensions['A'].width = 10\n",
    "    total_sheet.column_dimensions['B'].width = 60\n",
    "    total_sheet.column_dimensions['C'].width = 60\n",
    "    total_sheet.column_dimensions['D'].width = 150\n",
    "\n",
    "    row = 0\n",
    "    for i in range(1, lastpage * 10, 10):\n",
    "        try:\n",
    "            response = requests.get(f\"https://search.naver.com/search.naver?where=news&sm=tab_jum&query={keyword}&start={i}&pd={term}\",headers={'User-Agent':'Mozilla/5.0'})\n",
    "            html = response.text\n",
    "            soup = BeautifulSoup(html, \"html.parser\")\n",
    "            articles = soup.select(\"div.news_wrap.api_ani_send\")\n",
    "\n",
    "            for article in articles:\n",
    "                title = \"\"\n",
    "                content = \"\"\n",
    "\n",
    "                info_group = article.select_one(\"div.info_group\")\n",
    "                links = info_group.select(\"a.info\")\n",
    "                if len(links) >= 2:\n",
    "                    url = links[1].attrs[\"href\"]\n",
    "                    if \"newsway\" in url or \"vop\" in url:\n",
    "                            continue\n",
    "                    response = requests.get(url, headers={'User-agent': 'Mozila/5.0'})     \n",
    "                    html = response.text                                                   \n",
    "                    soup = BeautifulSoup(html, \"html.parser\")   \n",
    "                    \n",
    "                    if \"entertain\" in response.url:                                        \n",
    "                        title = soup.select_one(\".end_tit\").text.strip()                                 \n",
    "                        content = soup.select_one(\"#articeBody\").text.strip()                           \n",
    "                    elif \"sports\" in response.url:                                          \n",
    "                        title = soup.select_one(\"h4.title\").text.strip()                                 \n",
    "                        content = soup.select_one(\"#newsEndContents\")                    \n",
    "\n",
    "                        divs = content.select(\"div\")\n",
    "                        for div in divs:\n",
    "                            div.decompose()\n",
    "                        paragraphs = content.select(\"p\")\n",
    "                        for p in paragraphs:\n",
    "                            p.decompose()\n",
    "                        content = content.text.strip()\n",
    "                    else:\n",
    "                        title = soup.select_one(\".media_end_head_headline\").text.strip()                 \n",
    "                        content = soup.select_one(\"#dic_area\").text.strip()\n",
    "\n",
    "                else:\n",
    "                    dsc_wrap = article.select_one(\"div.dsc_wrap\")\n",
    "                    dsc_thumb = dsc_wrap.select_one(\"a.api_txt_lines.dsc_txt_wrap\")\n",
    "                    if dsc_thumb != None : \n",
    "                        url = dsc_thumb.attrs[\"href\"]\n",
    "                        if \"newsway\" in url or \"vop\" in url:\n",
    "                            continue\n",
    "                        response = requests.get(url, headers={'User-agent': 'Mozila/5.0'})     \n",
    "                        html = response.text\n",
    "                        soup = BeautifulSoup(html, \"html.parser\")\n",
    "                        \n",
    "                        if links[0].attrs[\"href\"]==\"http://www.tvdaily.co.kr\":\n",
    "                            title = article.find(\"a\", {\"class\":\"news_tit\"}).attrs[\"title\"]\n",
    "                            content = dsc_wrap.find(\"a\").find(\"mark\").text.strip()\n",
    "                        elif \"stoo\" in url or \"celuvmedia\" in url or \"bbsi\" in url or \"kwangju\" in url:\n",
    "                            1 == 1 #do nothing\n",
    "                        else:\n",
    "                            og_title = soup.find(\"meta\", {\"property\":\"og:title\"})\n",
    "                            if og_title!=None:\n",
    "                                title = og_title.attrs[\"content\"]\n",
    "                            og_content = soup.find(\"meta\", {\"property\":\"og:description\"})\n",
    "                            if og_content != None:\n",
    "                                content = og_content.attrs[\"content\"]\n",
    "\n",
    "\n",
    "                total_sheet[f\"A{row+1}\"] = row\n",
    "                total_sheet[f\"B{row+1}\"] = url\n",
    "                total_sheet[f\"C{row+1}\"] = title\n",
    "                total_sheet[f\"D{row+1}\"] = content\n",
    "                row += 1\n",
    "\n",
    "            if keyword==\"다.\":\n",
    "                wb.save(f\"./resources/전체.xlsx\")\n",
    "            else:\n",
    "                wb.save(f\"./resources/{keyword}.xlsx\")\n",
    "        except:\n",
    "            continue\n",
    "\n",
    "    return row"
   ]
  },
  {
   "cell_type": "code",
   "execution_count": 33,
   "metadata": {},
   "outputs": [
    {
     "name": "stdout",
     "output_type": "stream",
     "text": [
      "--------------------- 76 articles have been crawled ---------------------\n",
      "\n",
      "\n"
     ]
    }
   ],
   "source": [
    "lastpage = get_last_page_num(\"다.\",7)\n",
    "num = crawler(\"다.\",lastpage,7)\n",
    "print(f\"--------------------- {num} articles have been crawled ---------------------\\n\\n\") "
   ]
  },
  {
   "attachments": {},
   "cell_type": "markdown",
   "metadata": {},
   "source": []
  },
  {
   "attachments": {},
   "cell_type": "markdown",
   "metadata": {},
   "source": [
    "# 2. KEYWORD EXTRACTOR"
   ]
  },
  {
   "cell_type": "code",
   "execution_count": 34,
   "metadata": {},
   "outputs": [
    {
     "name": "stdout",
     "output_type": "stream",
     "text": [
      "huggingface/tokenizers: The current process just got forked, after parallelism has already been used. Disabling parallelism to avoid deadlocks...\n",
      "To disable this warning, you can either:\n",
      "\t- Avoid using `tokenizers` before the fork if possible\n",
      "\t- Explicitly set the environment variable TOKENIZERS_PARALLELISM=(true | false)\n",
      "Requirement already satisfied: keybert in ./.venv/lib/python3.11/site-packages (0.7.0)\n",
      "Requirement already satisfied: sentence-transformers>=0.3.8 in ./.venv/lib/python3.11/site-packages (from keybert) (2.2.2)\n",
      "Requirement already satisfied: scikit-learn>=0.22.2 in ./.venv/lib/python3.11/site-packages (from keybert) (1.2.2)\n",
      "Requirement already satisfied: numpy>=1.18.5 in ./.venv/lib/python3.11/site-packages (from keybert) (1.24.3)\n",
      "Requirement already satisfied: rich>=10.4.0 in ./.venv/lib/python3.11/site-packages (from keybert) (13.3.5)\n",
      "Requirement already satisfied: markdown-it-py<3.0.0,>=2.2.0 in ./.venv/lib/python3.11/site-packages (from rich>=10.4.0->keybert) (2.2.0)\n",
      "Requirement already satisfied: pygments<3.0.0,>=2.13.0 in ./.venv/lib/python3.11/site-packages (from rich>=10.4.0->keybert) (2.15.1)\n",
      "Requirement already satisfied: scipy>=1.3.2 in ./.venv/lib/python3.11/site-packages (from scikit-learn>=0.22.2->keybert) (1.10.1)\n",
      "Requirement already satisfied: joblib>=1.1.1 in ./.venv/lib/python3.11/site-packages (from scikit-learn>=0.22.2->keybert) (1.2.0)\n",
      "Requirement already satisfied: threadpoolctl>=2.0.0 in ./.venv/lib/python3.11/site-packages (from scikit-learn>=0.22.2->keybert) (3.1.0)\n",
      "Requirement already satisfied: transformers<5.0.0,>=4.6.0 in ./.venv/lib/python3.11/site-packages (from sentence-transformers>=0.3.8->keybert) (4.29.2)\n",
      "Requirement already satisfied: tqdm in ./.venv/lib/python3.11/site-packages (from sentence-transformers>=0.3.8->keybert) (4.65.0)\n",
      "Requirement already satisfied: torch>=1.6.0 in ./.venv/lib/python3.11/site-packages (from sentence-transformers>=0.3.8->keybert) (2.0.1)\n",
      "Requirement already satisfied: torchvision in ./.venv/lib/python3.11/site-packages (from sentence-transformers>=0.3.8->keybert) (0.15.2)\n",
      "Requirement already satisfied: nltk in ./.venv/lib/python3.11/site-packages (from sentence-transformers>=0.3.8->keybert) (3.8.1)\n",
      "Requirement already satisfied: sentencepiece in ./.venv/lib/python3.11/site-packages (from sentence-transformers>=0.3.8->keybert) (0.1.99)\n",
      "Requirement already satisfied: huggingface-hub>=0.4.0 in ./.venv/lib/python3.11/site-packages (from sentence-transformers>=0.3.8->keybert) (0.14.1)\n",
      "Requirement already satisfied: filelock in ./.venv/lib/python3.11/site-packages (from huggingface-hub>=0.4.0->sentence-transformers>=0.3.8->keybert) (3.12.0)\n",
      "Requirement already satisfied: fsspec in ./.venv/lib/python3.11/site-packages (from huggingface-hub>=0.4.0->sentence-transformers>=0.3.8->keybert) (2023.5.0)\n",
      "Requirement already satisfied: requests in ./.venv/lib/python3.11/site-packages (from huggingface-hub>=0.4.0->sentence-transformers>=0.3.8->keybert) (2.30.0)\n",
      "Requirement already satisfied: pyyaml>=5.1 in ./.venv/lib/python3.11/site-packages (from huggingface-hub>=0.4.0->sentence-transformers>=0.3.8->keybert) (6.0)\n",
      "Requirement already satisfied: typing-extensions>=3.7.4.3 in ./.venv/lib/python3.11/site-packages (from huggingface-hub>=0.4.0->sentence-transformers>=0.3.8->keybert) (4.6.2)\n",
      "Requirement already satisfied: packaging>=20.9 in ./.venv/lib/python3.11/site-packages (from huggingface-hub>=0.4.0->sentence-transformers>=0.3.8->keybert) (23.1)\n",
      "Requirement already satisfied: mdurl~=0.1 in ./.venv/lib/python3.11/site-packages (from markdown-it-py<3.0.0,>=2.2.0->rich>=10.4.0->keybert) (0.1.2)\n",
      "Requirement already satisfied: sympy in ./.venv/lib/python3.11/site-packages (from torch>=1.6.0->sentence-transformers>=0.3.8->keybert) (1.12)\n",
      "Requirement already satisfied: networkx in ./.venv/lib/python3.11/site-packages (from torch>=1.6.0->sentence-transformers>=0.3.8->keybert) (3.1)\n",
      "Requirement already satisfied: jinja2 in ./.venv/lib/python3.11/site-packages (from torch>=1.6.0->sentence-transformers>=0.3.8->keybert) (3.1.2)\n",
      "Requirement already satisfied: regex!=2019.12.17 in ./.venv/lib/python3.11/site-packages (from transformers<5.0.0,>=4.6.0->sentence-transformers>=0.3.8->keybert) (2023.5.5)\n",
      "Requirement already satisfied: tokenizers!=0.11.3,<0.14,>=0.11.1 in ./.venv/lib/python3.11/site-packages (from transformers<5.0.0,>=4.6.0->sentence-transformers>=0.3.8->keybert) (0.13.3)\n",
      "Requirement already satisfied: click in ./.venv/lib/python3.11/site-packages (from nltk->sentence-transformers>=0.3.8->keybert) (8.1.3)\n",
      "Requirement already satisfied: pillow!=8.3.*,>=5.3.0 in ./.venv/lib/python3.11/site-packages (from torchvision->sentence-transformers>=0.3.8->keybert) (9.5.0)\n",
      "Requirement already satisfied: MarkupSafe>=2.0 in ./.venv/lib/python3.11/site-packages (from jinja2->torch>=1.6.0->sentence-transformers>=0.3.8->keybert) (2.1.2)\n",
      "Requirement already satisfied: charset-normalizer<4,>=2 in ./.venv/lib/python3.11/site-packages (from requests->huggingface-hub>=0.4.0->sentence-transformers>=0.3.8->keybert) (3.1.0)\n",
      "Requirement already satisfied: idna<4,>=2.5 in ./.venv/lib/python3.11/site-packages (from requests->huggingface-hub>=0.4.0->sentence-transformers>=0.3.8->keybert) (3.4)\n",
      "Requirement already satisfied: urllib3<3,>=1.21.1 in ./.venv/lib/python3.11/site-packages (from requests->huggingface-hub>=0.4.0->sentence-transformers>=0.3.8->keybert) (2.0.2)\n",
      "Requirement already satisfied: certifi>=2017.4.17 in ./.venv/lib/python3.11/site-packages (from requests->huggingface-hub>=0.4.0->sentence-transformers>=0.3.8->keybert) (2023.5.7)\n",
      "Requirement already satisfied: mpmath>=0.19 in ./.venv/lib/python3.11/site-packages (from sympy->torch>=1.6.0->sentence-transformers>=0.3.8->keybert) (1.3.0)\n",
      "huggingface/tokenizers: The current process just got forked, after parallelism has already been used. Disabling parallelism to avoid deadlocks...\n",
      "To disable this warning, you can either:\n",
      "\t- Avoid using `tokenizers` before the fork if possible\n",
      "\t- Explicitly set the environment variable TOKENIZERS_PARALLELISM=(true | false)\n",
      "Requirement already satisfied: kiwipiepy in ./.venv/lib/python3.11/site-packages (0.15.1)\n",
      "Requirement already satisfied: dataclasses in ./.venv/lib/python3.11/site-packages (from kiwipiepy) (0.6)\n",
      "Requirement already satisfied: kiwipiepy-model~=0.15 in ./.venv/lib/python3.11/site-packages (from kiwipiepy) (0.15.0)\n",
      "Requirement already satisfied: numpy in ./.venv/lib/python3.11/site-packages (from kiwipiepy) (1.24.3)\n",
      "Requirement already satisfied: tqdm in ./.venv/lib/python3.11/site-packages (from kiwipiepy) (4.65.0)\n",
      "huggingface/tokenizers: The current process just got forked, after parallelism has already been used. Disabling parallelism to avoid deadlocks...\n",
      "To disable this warning, you can either:\n",
      "\t- Avoid using `tokenizers` before the fork if possible\n",
      "\t- Explicitly set the environment variable TOKENIZERS_PARALLELISM=(true | false)\n",
      "Requirement already satisfied: cython in ./.venv/lib/python3.11/site-packages (0.29.35)\n"
     ]
    }
   ],
   "source": [
    "!pip install keybert\n",
    "!pip install kiwipiepy\n",
    "!pip install cython\n",
    "from keybert import KeyBERT\n",
    "from kiwipiepy import Kiwi\n",
    "from transformers import BertModel\n",
    "from openpyxl import load_workbook\n",
    "import torch\n",
    "\n",
    "model = BertModel.from_pretrained('skt/kobert-base-v1')\n",
    "kw_model = KeyBERT(model)\n",
    "kiwi = Kiwi()\n",
    "keywords = []\n",
    "\n",
    "def noun_extractor(text):\n",
    "    results = []\n",
    "    result = kiwi.analyze(text)\n",
    "    for token, pos, _, _ in result[0][0]:\n",
    "        if len(token) != 1 and pos.startswith('N') or pos.startswith('SL'):\n",
    "            results.append(token)\n",
    "    return results\n",
    "\n",
    "def keyword_extract(filename):\n",
    "    load_wb = load_workbook(f\"./resources/{filename}\", data_only=True)\n",
    "    load_ws = load_wb.get_sheet_by_name(filename.split('.')[0])\n",
    "    articles = []\n",
    "    for i in range(1, load_ws.max_row + 1):\n",
    "        if load_ws.cell(row=i, column=4).value == None:\n",
    "            articles.append(\"경찰청 창살 철창살은 녹슨 철창살인가 녹안슨 철창살인가\")\n",
    "        else: articles.append(load_ws.cell(row=i, column=4).value)\n",
    "\n",
    "    noun_articles = []\n",
    "    for article in articles:\n",
    "        nouns = noun_extractor(article)\n",
    "        article = ' '.join(nouns)\n",
    "        noun_articles.append(article)\n",
    "\n",
    "    n_gram = 2\n",
    "    for i in range(1, load_ws.max_row+1):\n",
    "        x = kw_model.extract_keywords(noun_articles[i-1], keyphrase_ngram_range=(1, n_gram), stop_words=stopwords, top_n=1)\n",
    "        if x != []:\n",
    "            load_ws.cell(row=i, column=5, value=f\"{x[0]}\")\n",
    "        else:\n",
    "            x = (\"-\",0)\n",
    "            load_ws.cell(row=i, column=5, value=f\"-\")\n",
    "        keywords.append(x[0])\n",
    "\n",
    "    load_wb.save(f\"./resources/{filename}\")\n",
    "    load_wb.close()"
   ]
  },
  {
   "cell_type": "code",
   "execution_count": 35,
   "metadata": {},
   "outputs": [
    {
     "name": "stderr",
     "output_type": "stream",
     "text": [
      "/var/folders/k1/dqklgtzs47vckvrkl74mxsxc0000gn/T/ipykernel_1008/276851705.py:25: DeprecationWarning: Call to deprecated function get_sheet_by_name (Use wb[sheetname]).\n",
      "  load_ws = load_wb.get_sheet_by_name(filename.split('.')[0])\n"
     ]
    }
   ],
   "source": [
    "keyword_extract(\"전체.xlsx\")"
   ]
  },
  {
   "attachments": {},
   "cell_type": "markdown",
   "metadata": {},
   "source": [
    "# 3. GET TOP 30 KEYWORDS from whole articles"
   ]
  },
  {
   "cell_type": "code",
   "execution_count": 36,
   "metadata": {},
   "outputs": [],
   "source": [
    "from collections import Counter"
   ]
  },
  {
   "cell_type": "code",
   "execution_count": 37,
   "metadata": {},
   "outputs": [
    {
     "name": "stdout",
     "output_type": "stream",
     "text": [
      "===============        TOP Keywords        =================\n",
      "                  0.  인스타그램 사진\n",
      "                  1.  대변인 천안함\n",
      "                  2.  김광현 벌금\n",
      "                  3.  지지자 네티즌\n",
      "                  4.  이상민 민주당\n",
      "                  5.  위원장 사태\n",
      "                  6.  패션 fastfashion\n",
      "                  7.  스릴러 주역\n",
      "                  8.  kbo 상벌\n",
      "                  9.  mc 김종국\n",
      "                  10.  월드컵 스타\n",
      "                  11.  이하 월드컵\n",
      "                  12.  미국 공군\n",
      "                  13.  교회 베이비박스\n",
      "                  14.  건물주 리모델링\n",
      "                  15.  게스트 출연\n",
      "                  16.  kbs joy\n",
      "                  17.  최근 우크라이나\n",
      "                  18.  한국 티타임\n",
      "                  19.  학생 사고\n",
      "                  20.  몬스타엑스 유튜브\n",
      "                  21.  서태 정영주\n",
      "                  22.  주차 기숙사\n",
      "                  23.  엄마 이찬원\n",
      "                  24.  배포 무료\n",
      "                  25.  스포츠한국 조은애\n",
      "                  26.  가정 아반떼\n",
      "                  27.  김지은 인턴\n",
      "                  28.  사진 채정안\n",
      "                  29.  한국노총 경사노위\n",
      "                  30.  부지사 자체\n",
      "                  31.  스포츠한국 김민지\n",
      "                  32.  교수 송은이\n",
      "                  33.  투쟁 금전\n",
      "                  34.  아동 센터\n",
      "                  35.  사회 공헌\n"
     ]
    }
   ],
   "source": [
    "y = Counter(keywords).most_common(40)\n",
    "top_keywords = []\n",
    "i=0\n",
    "for i in range(len(y)):\n",
    "    if \"기자\" not in y[i][0][0] and \"뉴스\" not in y[i][0][0] and \"경찰청 창살\" not in y[i][0] and \"-\" not in y[i][0]:\n",
    "        top_keywords.append(y[i][0][0])\n",
    "print(f\"===============        TOP Keywords        =================\")\n",
    "for i in range(len(top_keywords)):\n",
    "    print(f\"                  {i}.  {top_keywords[i]}\")"
   ]
  },
  {
   "attachments": {},
   "cell_type": "markdown",
   "metadata": {},
   "source": [
    "# 4. RECRAWL ARTICLES INCLUDING THE KETWORDS"
   ]
  },
  {
   "cell_type": "code",
   "execution_count": 38,
   "metadata": {},
   "outputs": [
    {
     "name": "stdout",
     "output_type": "stream",
     "text": [
      "--------------------- 40 articles including the keyword [인스타그램 사진] have been crawled ---------------------\n",
      "\n",
      "\n",
      "--------------------- 50 articles including the keyword [대변인 천안함] have been crawled ---------------------\n",
      "\n",
      "\n",
      "--------------------- 10 articles including the keyword [김광현 벌금] have been crawled ---------------------\n",
      "\n",
      "\n",
      "--------------------- 1 articles including the keyword [지지자 네티즌] have been crawled ---------------------\n",
      "\n",
      "\n",
      "--------------------- 21 articles including the keyword [이상민 민주당] have been crawled ---------------------\n",
      "\n",
      "\n",
      "--------------------- 69 articles including the keyword [위원장 사태] have been crawled ---------------------\n",
      "\n",
      "\n",
      "--------------------- 1 articles including the keyword [패션 fastfashion] have been crawled ---------------------\n",
      "\n",
      "\n",
      "--------------------- 2 articles including the keyword [스릴러 주역] have been crawled ---------------------\n",
      "\n",
      "\n",
      "--------------------- 10 articles including the keyword [kbo 상벌] have been crawled ---------------------\n",
      "\n",
      "\n",
      "--------------------- 2 articles including the keyword [mc 김종국] have been crawled ---------------------\n",
      "\n",
      "\n",
      "--------------------- 15 articles including the keyword [월드컵 스타] have been crawled ---------------------\n",
      "\n",
      "\n",
      "--------------------- 20 articles including the keyword [이하 월드컵] have been crawled ---------------------\n",
      "\n",
      "\n",
      "--------------------- 8 articles including the keyword [미국 공군] have been crawled ---------------------\n",
      "\n",
      "\n",
      "--------------------- 1 articles including the keyword [교회 베이비박스] have been crawled ---------------------\n",
      "\n",
      "\n",
      "--------------------- 10 articles including the keyword [건물주 리모델링] have been crawled ---------------------\n",
      "\n",
      "\n",
      "--------------------- 10 articles including the keyword [게스트 출연] have been crawled ---------------------\n",
      "\n",
      "\n",
      "--------------------- 4 articles including the keyword [kbs joy] have been crawled ---------------------\n",
      "\n",
      "\n",
      "--------------------- 30 articles including the keyword [최근 우크라이나] have been crawled ---------------------\n",
      "\n",
      "\n",
      "--------------------- 6 articles including the keyword [한국 티타임] have been crawled ---------------------\n",
      "\n",
      "\n",
      "--------------------- 50 articles including the keyword [학생 사고] have been crawled ---------------------\n",
      "\n",
      "\n",
      "--------------------- 1 articles including the keyword [몬스타엑스 유튜브] have been crawled ---------------------\n",
      "\n",
      "\n",
      "--------------------- 0 articles including the keyword [서태 정영주] have been crawled ---------------------\n",
      "\n",
      "\n",
      "--------------------- 1 articles including the keyword [주차 기숙사] have been crawled ---------------------\n",
      "\n",
      "\n",
      "--------------------- 2 articles including the keyword [엄마 이찬원] have been crawled ---------------------\n",
      "\n",
      "\n",
      "--------------------- 6 articles including the keyword [배포 무료] have been crawled ---------------------\n",
      "\n",
      "\n",
      "--------------------- 0 articles including the keyword [스포츠한국 조은애] have been crawled ---------------------\n",
      "\n",
      "\n",
      "--------------------- 2 articles including the keyword [가정 아반떼] have been crawled ---------------------\n",
      "\n",
      "\n",
      "--------------------- 0 articles including the keyword [김지은 인턴] have been crawled ---------------------\n",
      "\n",
      "\n",
      "--------------------- 1 articles including the keyword [사진 채정안] have been crawled ---------------------\n",
      "\n",
      "\n",
      "--------------------- 30 articles including the keyword [한국노총 경사노위] have been crawled ---------------------\n",
      "\n",
      "\n",
      "--------------------- 4 articles including the keyword [부지사 자체] have been crawled ---------------------\n",
      "\n",
      "\n",
      "--------------------- 0 articles including the keyword [스포츠한국 김민지] have been crawled ---------------------\n",
      "\n",
      "\n",
      "--------------------- 3 articles including the keyword [교수 송은이] have been crawled ---------------------\n",
      "\n",
      "\n",
      "--------------------- 1 articles including the keyword [투쟁 금전] have been crawled ---------------------\n",
      "\n",
      "\n",
      "--------------------- 30 articles including the keyword [아동 센터] have been crawled ---------------------\n",
      "\n",
      "\n",
      "--------------------- 50 articles including the keyword [사회 공헌] have been crawled ---------------------\n",
      "\n",
      "\n"
     ]
    }
   ],
   "source": [
    "zero_index = []\n",
    "for i in range(len(top_keywords)):\n",
    "    lastpage = get_last_page_num(top_keywords[i],9)\n",
    "    num = crawler(top_keywords[i],lastpage,9)\n",
    "    if num==0:\n",
    "        zero_index.append(i)\n",
    "    print(f\"--------------------- {num} articles including the keyword [{top_keywords[i]}] have been crawled ---------------------\\n\\n\") \n",
    "for i in zero_index:\n",
    "    top_keywords.remove(top_keywords[i])"
   ]
  },
  {
   "attachments": {},
   "cell_type": "markdown",
   "metadata": {},
   "source": [
    "# 5. GET SUMMARY & TOPIC from EACH KEYWORD FILES"
   ]
  },
  {
   "attachments": {},
   "cell_type": "markdown",
   "metadata": {},
   "source": [
    "## (1) Summary"
   ]
  },
  {
   "cell_type": "code",
   "execution_count": 39,
   "metadata": {},
   "outputs": [
    {
     "name": "stdout",
     "output_type": "stream",
     "text": [
      "huggingface/tokenizers: The current process just got forked, after parallelism has already been used. Disabling parallelism to avoid deadlocks...\n",
      "To disable this warning, you can either:\n",
      "\t- Avoid using `tokenizers` before the fork if possible\n",
      "\t- Explicitly set the environment variable TOKENIZERS_PARALLELISM=(true | false)\n",
      "Requirement already satisfied: torch in ./.venv/lib/python3.11/site-packages (2.0.1)\n",
      "Requirement already satisfied: filelock in ./.venv/lib/python3.11/site-packages (from torch) (3.12.0)\n",
      "Requirement already satisfied: typing-extensions in ./.venv/lib/python3.11/site-packages (from torch) (4.6.2)\n",
      "Requirement already satisfied: sympy in ./.venv/lib/python3.11/site-packages (from torch) (1.12)\n",
      "Requirement already satisfied: networkx in ./.venv/lib/python3.11/site-packages (from torch) (3.1)\n",
      "Requirement already satisfied: jinja2 in ./.venv/lib/python3.11/site-packages (from torch) (3.1.2)\n",
      "Requirement already satisfied: MarkupSafe>=2.0 in ./.venv/lib/python3.11/site-packages (from jinja2->torch) (2.1.2)\n",
      "Requirement already satisfied: mpmath>=0.19 in ./.venv/lib/python3.11/site-packages (from sympy->torch) (1.3.0)\n",
      "huggingface/tokenizers: The current process just got forked, after parallelism has already been used. Disabling parallelism to avoid deadlocks...\n",
      "To disable this warning, you can either:\n",
      "\t- Avoid using `tokenizers` before the fork if possible\n",
      "\t- Explicitly set the environment variable TOKENIZERS_PARALLELISM=(true | false)\n",
      "Requirement already satisfied: transformers in ./.venv/lib/python3.11/site-packages (4.29.2)\n",
      "Requirement already satisfied: filelock in ./.venv/lib/python3.11/site-packages (from transformers) (3.12.0)\n",
      "Requirement already satisfied: huggingface-hub<1.0,>=0.14.1 in ./.venv/lib/python3.11/site-packages (from transformers) (0.14.1)\n",
      "Requirement already satisfied: numpy>=1.17 in ./.venv/lib/python3.11/site-packages (from transformers) (1.24.3)\n",
      "Requirement already satisfied: packaging>=20.0 in ./.venv/lib/python3.11/site-packages (from transformers) (23.1)\n",
      "Requirement already satisfied: pyyaml>=5.1 in ./.venv/lib/python3.11/site-packages (from transformers) (6.0)\n",
      "Requirement already satisfied: regex!=2019.12.17 in ./.venv/lib/python3.11/site-packages (from transformers) (2023.5.5)\n",
      "Requirement already satisfied: requests in ./.venv/lib/python3.11/site-packages (from transformers) (2.30.0)\n",
      "Requirement already satisfied: tokenizers!=0.11.3,<0.14,>=0.11.1 in ./.venv/lib/python3.11/site-packages (from transformers) (0.13.3)\n",
      "Requirement already satisfied: tqdm>=4.27 in ./.venv/lib/python3.11/site-packages (from transformers) (4.65.0)\n",
      "Requirement already satisfied: fsspec in ./.venv/lib/python3.11/site-packages (from huggingface-hub<1.0,>=0.14.1->transformers) (2023.5.0)\n",
      "Requirement already satisfied: typing-extensions>=3.7.4.3 in ./.venv/lib/python3.11/site-packages (from huggingface-hub<1.0,>=0.14.1->transformers) (4.6.2)\n",
      "Requirement already satisfied: charset-normalizer<4,>=2 in ./.venv/lib/python3.11/site-packages (from requests->transformers) (3.1.0)\n",
      "Requirement already satisfied: idna<4,>=2.5 in ./.venv/lib/python3.11/site-packages (from requests->transformers) (3.4)\n",
      "Requirement already satisfied: urllib3<3,>=1.21.1 in ./.venv/lib/python3.11/site-packages (from requests->transformers) (2.0.2)\n",
      "Requirement already satisfied: certifi>=2017.4.17 in ./.venv/lib/python3.11/site-packages (from requests->transformers) (2023.5.7)\n"
     ]
    }
   ],
   "source": [
    "!pip install torch\n",
    "!pip install transformers\n",
    "\n",
    "import torch\n",
    "from transformers import PreTrainedTokenizerFast\n",
    "from transformers.models.bart import BartForConditionalGeneration\n",
    "import pandas as pd\n",
    "import re\n",
    "import json\n"
   ]
  },
  {
   "cell_type": "code",
   "execution_count": 40,
   "metadata": {},
   "outputs": [
    {
     "name": "stderr",
     "output_type": "stream",
     "text": [
      "You passed along `num_labels=3` with an incompatible id to label map: {'0': 'NEGATIVE', '1': 'POSITIVE'}. The number of labels wil be overwritten to 2.\n"
     ]
    }
   ],
   "source": [
    "class summaryModel:\n",
    "  \n",
    "  def __init__(self):\n",
    "    self.model = BartForConditionalGeneration.from_pretrained(\"ainize/kobart-news\") #kobart 모델 사용\n",
    "    self.tokenizer = PreTrainedTokenizerFast.from_pretrained('ainize/kobart-news')\n",
    "\n",
    "  def summarize(self, text):\n",
    "    input_ids = self.tokenizer.encode(text, return_tensors=\"pt\")\n",
    "    #input_ids = input_ids.unsqueeze(0)\n",
    "    output = self.model.generate(input_ids, eos_token_id=1, max_length=128, num_beams=5)\n",
    "    output = self.tokenizer.decode(output[0], skip_special_tokens=True)\n",
    "    return self.postprocess(output)\n",
    "  \n",
    "  def postprocess(self, text): #문장이 중간에 끊기지 않도록 후처리\n",
    "    text = text.split(\".\")[:-1]\n",
    "    out_text = [t for t in text if len(t)>5]\n",
    "    return \". \".join(out_text)\n",
    "    \n",
    "sum = summaryModel()\n",
    "\n",
    "def summarization_article(keyword):\n",
    "  data = pd.read_excel(f'./resources/{keyword}.xlsx', header=None, sheet_name = keyword, index_col = 0, names = [\"index\", \"url\", \"title\", \"content\"]) \n",
    "\n",
    "  #데이터전처리\n",
    "  data['drop'] = data['content'].apply(lambda x : 1 if type(x) != str else 0)\n",
    "  data = data.drop(data[data['drop']==1].index)\n",
    "  data[\"content\"] = data[\"content\"].apply(lambda x:  re.sub(r'\\([^)]*\\)', '', x))\n",
    "  data[\"content\"] = data[\"content\"].apply(lambda x:  re.sub(r\"[^가-힇0-9A-Za-z‘“.,!?\\n/ ]+\", \" \", x))\n",
    "  data[\"content\"] = data[\"content\"].apply(lambda x:  re.sub(r\"[(\\n)]+\",\"\\n\",x))\n",
    "  data = data.dropna()\n",
    "\n",
    "\n",
    "  #각 기사에 대한 요약 저장\n",
    "  content = data[\"content\"].tolist()\n",
    "  sum_text = []\n",
    "  for c in content:\n",
    "    if type(c)==str and len(c)>=1:\n",
    "      x = c.split(\" \")\n",
    "      sum_text.append(sum.summarize(\" \".join(x[:500])))\n",
    "\n",
    "  #각 summary로 한번 더 요약을 한 버전\n",
    "  sum_text = \". \".join(sum_text).split(\" \")[:500]\n",
    "  output = sum.summarize(\" \".join(sum_text))\n",
    "  return output"
   ]
  },
  {
   "cell_type": "code",
   "execution_count": 41,
   "metadata": {},
   "outputs": [
    {
     "ename": "KeyboardInterrupt",
     "evalue": "",
     "output_type": "error",
     "traceback": [
      "\u001b[0;31m---------------------------------------------------------------------------\u001b[0m",
      "\u001b[0;31mKeyboardInterrupt\u001b[0m                         Traceback (most recent call last)",
      "Cell \u001b[0;32mIn[41], line 7\u001b[0m\n\u001b[1;32m      5\u001b[0m \u001b[39mfor\u001b[39;00m key \u001b[39min\u001b[39;00m top_keywords:\n\u001b[1;32m      6\u001b[0m     \u001b[39mtry\u001b[39;00m:\n\u001b[0;32m----> 7\u001b[0m         summaries\u001b[39m.\u001b[39mappend(summarization_article(key))\n\u001b[1;32m      8\u001b[0m         wb \u001b[39m=\u001b[39m load_workbook(\u001b[39mf\u001b[39m\u001b[39m\"\u001b[39m\u001b[39m./resources/\u001b[39m\u001b[39m{\u001b[39;00mkey\u001b[39m}\u001b[39;00m\u001b[39m.xlsx\u001b[39m\u001b[39m\"\u001b[39m)\n\u001b[1;32m      9\u001b[0m         ws \u001b[39m=\u001b[39m wb[key]\n",
      "Cell \u001b[0;32mIn[40], line 39\u001b[0m, in \u001b[0;36msummarization_article\u001b[0;34m(keyword)\u001b[0m\n\u001b[1;32m     37\u001b[0m   \u001b[39mif\u001b[39;00m \u001b[39mtype\u001b[39m(c)\u001b[39m==\u001b[39m\u001b[39mstr\u001b[39m \u001b[39mand\u001b[39;00m \u001b[39mlen\u001b[39m(c)\u001b[39m>\u001b[39m\u001b[39m=\u001b[39m\u001b[39m1\u001b[39m:\n\u001b[1;32m     38\u001b[0m     x \u001b[39m=\u001b[39m c\u001b[39m.\u001b[39msplit(\u001b[39m\"\u001b[39m\u001b[39m \u001b[39m\u001b[39m\"\u001b[39m)\n\u001b[0;32m---> 39\u001b[0m     sum_text\u001b[39m.\u001b[39mappend(\u001b[39msum\u001b[39;49m\u001b[39m.\u001b[39;49msummarize(\u001b[39m\"\u001b[39;49m\u001b[39m \u001b[39;49m\u001b[39m\"\u001b[39;49m\u001b[39m.\u001b[39;49mjoin(x[:\u001b[39m500\u001b[39;49m])))\n\u001b[1;32m     41\u001b[0m \u001b[39m#각 summary로 한번 더 요약을 한 버전\u001b[39;00m\n\u001b[1;32m     42\u001b[0m sum_text \u001b[39m=\u001b[39m \u001b[39m\"\u001b[39m\u001b[39m. \u001b[39m\u001b[39m\"\u001b[39m\u001b[39m.\u001b[39mjoin(sum_text)\u001b[39m.\u001b[39msplit(\u001b[39m\"\u001b[39m\u001b[39m \u001b[39m\u001b[39m\"\u001b[39m)[:\u001b[39m500\u001b[39m]\n",
      "Cell \u001b[0;32mIn[40], line 10\u001b[0m, in \u001b[0;36msummaryModel.summarize\u001b[0;34m(self, text)\u001b[0m\n\u001b[1;32m      8\u001b[0m input_ids \u001b[39m=\u001b[39m \u001b[39mself\u001b[39m\u001b[39m.\u001b[39mtokenizer\u001b[39m.\u001b[39mencode(text, return_tensors\u001b[39m=\u001b[39m\u001b[39m\"\u001b[39m\u001b[39mpt\u001b[39m\u001b[39m\"\u001b[39m)\n\u001b[1;32m      9\u001b[0m \u001b[39m#input_ids = input_ids.unsqueeze(0)\u001b[39;00m\n\u001b[0;32m---> 10\u001b[0m output \u001b[39m=\u001b[39m \u001b[39mself\u001b[39;49m\u001b[39m.\u001b[39;49mmodel\u001b[39m.\u001b[39;49mgenerate(input_ids, eos_token_id\u001b[39m=\u001b[39;49m\u001b[39m1\u001b[39;49m, max_length\u001b[39m=\u001b[39;49m\u001b[39m128\u001b[39;49m, num_beams\u001b[39m=\u001b[39;49m\u001b[39m5\u001b[39;49m)\n\u001b[1;32m     11\u001b[0m output \u001b[39m=\u001b[39m \u001b[39mself\u001b[39m\u001b[39m.\u001b[39mtokenizer\u001b[39m.\u001b[39mdecode(output[\u001b[39m0\u001b[39m], skip_special_tokens\u001b[39m=\u001b[39m\u001b[39mTrue\u001b[39;00m)\n\u001b[1;32m     12\u001b[0m \u001b[39mreturn\u001b[39;00m \u001b[39mself\u001b[39m\u001b[39m.\u001b[39mpostprocess(output)\n",
      "File \u001b[0;32m~/Documents/crawling/.venv/lib/python3.11/site-packages/torch/utils/_contextlib.py:115\u001b[0m, in \u001b[0;36mcontext_decorator.<locals>.decorate_context\u001b[0;34m(*args, **kwargs)\u001b[0m\n\u001b[1;32m    112\u001b[0m \u001b[39m@functools\u001b[39m\u001b[39m.\u001b[39mwraps(func)\n\u001b[1;32m    113\u001b[0m \u001b[39mdef\u001b[39;00m \u001b[39mdecorate_context\u001b[39m(\u001b[39m*\u001b[39margs, \u001b[39m*\u001b[39m\u001b[39m*\u001b[39mkwargs):\n\u001b[1;32m    114\u001b[0m     \u001b[39mwith\u001b[39;00m ctx_factory():\n\u001b[0;32m--> 115\u001b[0m         \u001b[39mreturn\u001b[39;00m func(\u001b[39m*\u001b[39;49margs, \u001b[39m*\u001b[39;49m\u001b[39m*\u001b[39;49mkwargs)\n",
      "File \u001b[0;32m~/Documents/crawling/.venv/lib/python3.11/site-packages/transformers/generation/utils.py:1604\u001b[0m, in \u001b[0;36mGenerationMixin.generate\u001b[0;34m(self, inputs, generation_config, logits_processor, stopping_criteria, prefix_allowed_tokens_fn, synced_gpus, assistant_model, streamer, **kwargs)\u001b[0m\n\u001b[1;32m   1597\u001b[0m     input_ids, model_kwargs \u001b[39m=\u001b[39m \u001b[39mself\u001b[39m\u001b[39m.\u001b[39m_expand_inputs_for_generation(\n\u001b[1;32m   1598\u001b[0m         input_ids\u001b[39m=\u001b[39minput_ids,\n\u001b[1;32m   1599\u001b[0m         expand_size\u001b[39m=\u001b[39mgeneration_config\u001b[39m.\u001b[39mnum_beams,\n\u001b[1;32m   1600\u001b[0m         is_encoder_decoder\u001b[39m=\u001b[39m\u001b[39mself\u001b[39m\u001b[39m.\u001b[39mconfig\u001b[39m.\u001b[39mis_encoder_decoder,\n\u001b[1;32m   1601\u001b[0m         \u001b[39m*\u001b[39m\u001b[39m*\u001b[39mmodel_kwargs,\n\u001b[1;32m   1602\u001b[0m     )\n\u001b[1;32m   1603\u001b[0m     \u001b[39m# 13. run beam search\u001b[39;00m\n\u001b[0;32m-> 1604\u001b[0m     \u001b[39mreturn\u001b[39;00m \u001b[39mself\u001b[39;49m\u001b[39m.\u001b[39;49mbeam_search(\n\u001b[1;32m   1605\u001b[0m         input_ids,\n\u001b[1;32m   1606\u001b[0m         beam_scorer,\n\u001b[1;32m   1607\u001b[0m         logits_processor\u001b[39m=\u001b[39;49mlogits_processor,\n\u001b[1;32m   1608\u001b[0m         stopping_criteria\u001b[39m=\u001b[39;49mstopping_criteria,\n\u001b[1;32m   1609\u001b[0m         pad_token_id\u001b[39m=\u001b[39;49mgeneration_config\u001b[39m.\u001b[39;49mpad_token_id,\n\u001b[1;32m   1610\u001b[0m         eos_token_id\u001b[39m=\u001b[39;49mgeneration_config\u001b[39m.\u001b[39;49meos_token_id,\n\u001b[1;32m   1611\u001b[0m         output_scores\u001b[39m=\u001b[39;49mgeneration_config\u001b[39m.\u001b[39;49moutput_scores,\n\u001b[1;32m   1612\u001b[0m         return_dict_in_generate\u001b[39m=\u001b[39;49mgeneration_config\u001b[39m.\u001b[39;49mreturn_dict_in_generate,\n\u001b[1;32m   1613\u001b[0m         synced_gpus\u001b[39m=\u001b[39;49msynced_gpus,\n\u001b[1;32m   1614\u001b[0m         \u001b[39m*\u001b[39;49m\u001b[39m*\u001b[39;49mmodel_kwargs,\n\u001b[1;32m   1615\u001b[0m     )\n\u001b[1;32m   1617\u001b[0m \u001b[39melif\u001b[39;00m is_beam_sample_gen_mode:\n\u001b[1;32m   1618\u001b[0m     \u001b[39m# 11. prepare logits warper\u001b[39;00m\n\u001b[1;32m   1619\u001b[0m     logits_warper \u001b[39m=\u001b[39m \u001b[39mself\u001b[39m\u001b[39m.\u001b[39m_get_logits_warper(generation_config)\n",
      "File \u001b[0;32m~/Documents/crawling/.venv/lib/python3.11/site-packages/transformers/generation/utils.py:2902\u001b[0m, in \u001b[0;36mGenerationMixin.beam_search\u001b[0;34m(self, input_ids, beam_scorer, logits_processor, stopping_criteria, max_length, pad_token_id, eos_token_id, output_attentions, output_hidden_states, output_scores, return_dict_in_generate, synced_gpus, **model_kwargs)\u001b[0m\n\u001b[1;32m   2898\u001b[0m         \u001b[39mbreak\u001b[39;00m\n\u001b[1;32m   2900\u001b[0m model_inputs \u001b[39m=\u001b[39m \u001b[39mself\u001b[39m\u001b[39m.\u001b[39mprepare_inputs_for_generation(input_ids, \u001b[39m*\u001b[39m\u001b[39m*\u001b[39mmodel_kwargs)\n\u001b[0;32m-> 2902\u001b[0m outputs \u001b[39m=\u001b[39m \u001b[39mself\u001b[39;49m(\n\u001b[1;32m   2903\u001b[0m     \u001b[39m*\u001b[39;49m\u001b[39m*\u001b[39;49mmodel_inputs,\n\u001b[1;32m   2904\u001b[0m     return_dict\u001b[39m=\u001b[39;49m\u001b[39mTrue\u001b[39;49;00m,\n\u001b[1;32m   2905\u001b[0m     output_attentions\u001b[39m=\u001b[39;49moutput_attentions,\n\u001b[1;32m   2906\u001b[0m     output_hidden_states\u001b[39m=\u001b[39;49moutput_hidden_states,\n\u001b[1;32m   2907\u001b[0m )\n\u001b[1;32m   2909\u001b[0m \u001b[39mif\u001b[39;00m synced_gpus \u001b[39mand\u001b[39;00m this_peer_finished:\n\u001b[1;32m   2910\u001b[0m     cur_len \u001b[39m=\u001b[39m cur_len \u001b[39m+\u001b[39m \u001b[39m1\u001b[39m\n",
      "File \u001b[0;32m~/Documents/crawling/.venv/lib/python3.11/site-packages/torch/nn/modules/module.py:1501\u001b[0m, in \u001b[0;36mModule._call_impl\u001b[0;34m(self, *args, **kwargs)\u001b[0m\n\u001b[1;32m   1496\u001b[0m \u001b[39m# If we don't have any hooks, we want to skip the rest of the logic in\u001b[39;00m\n\u001b[1;32m   1497\u001b[0m \u001b[39m# this function, and just call forward.\u001b[39;00m\n\u001b[1;32m   1498\u001b[0m \u001b[39mif\u001b[39;00m \u001b[39mnot\u001b[39;00m (\u001b[39mself\u001b[39m\u001b[39m.\u001b[39m_backward_hooks \u001b[39mor\u001b[39;00m \u001b[39mself\u001b[39m\u001b[39m.\u001b[39m_backward_pre_hooks \u001b[39mor\u001b[39;00m \u001b[39mself\u001b[39m\u001b[39m.\u001b[39m_forward_hooks \u001b[39mor\u001b[39;00m \u001b[39mself\u001b[39m\u001b[39m.\u001b[39m_forward_pre_hooks\n\u001b[1;32m   1499\u001b[0m         \u001b[39mor\u001b[39;00m _global_backward_pre_hooks \u001b[39mor\u001b[39;00m _global_backward_hooks\n\u001b[1;32m   1500\u001b[0m         \u001b[39mor\u001b[39;00m _global_forward_hooks \u001b[39mor\u001b[39;00m _global_forward_pre_hooks):\n\u001b[0;32m-> 1501\u001b[0m     \u001b[39mreturn\u001b[39;00m forward_call(\u001b[39m*\u001b[39;49margs, \u001b[39m*\u001b[39;49m\u001b[39m*\u001b[39;49mkwargs)\n\u001b[1;32m   1502\u001b[0m \u001b[39m# Do not call functions when jit is used\u001b[39;00m\n\u001b[1;32m   1503\u001b[0m full_backward_hooks, non_full_backward_hooks \u001b[39m=\u001b[39m [], []\n",
      "File \u001b[0;32m~/Documents/crawling/.venv/lib/python3.11/site-packages/transformers/models/bart/modeling_bart.py:1396\u001b[0m, in \u001b[0;36mBartForConditionalGeneration.forward\u001b[0;34m(self, input_ids, attention_mask, decoder_input_ids, decoder_attention_mask, head_mask, decoder_head_mask, cross_attn_head_mask, encoder_outputs, past_key_values, inputs_embeds, decoder_inputs_embeds, labels, use_cache, output_attentions, output_hidden_states, return_dict)\u001b[0m\n\u001b[1;32m   1374\u001b[0m         decoder_input_ids \u001b[39m=\u001b[39m shift_tokens_right(\n\u001b[1;32m   1375\u001b[0m             labels, \u001b[39mself\u001b[39m\u001b[39m.\u001b[39mconfig\u001b[39m.\u001b[39mpad_token_id, \u001b[39mself\u001b[39m\u001b[39m.\u001b[39mconfig\u001b[39m.\u001b[39mdecoder_start_token_id\n\u001b[1;32m   1376\u001b[0m         )\n\u001b[1;32m   1378\u001b[0m outputs \u001b[39m=\u001b[39m \u001b[39mself\u001b[39m\u001b[39m.\u001b[39mmodel(\n\u001b[1;32m   1379\u001b[0m     input_ids,\n\u001b[1;32m   1380\u001b[0m     attention_mask\u001b[39m=\u001b[39mattention_mask,\n\u001b[0;32m   (...)\u001b[0m\n\u001b[1;32m   1393\u001b[0m     return_dict\u001b[39m=\u001b[39mreturn_dict,\n\u001b[1;32m   1394\u001b[0m )\n\u001b[0;32m-> 1396\u001b[0m lm_logits \u001b[39m=\u001b[39m \u001b[39mself\u001b[39;49m\u001b[39m.\u001b[39;49mlm_head(outputs[\u001b[39m0\u001b[39;49m])\n\u001b[1;32m   1397\u001b[0m lm_logits \u001b[39m=\u001b[39m lm_logits \u001b[39m+\u001b[39m \u001b[39mself\u001b[39m\u001b[39m.\u001b[39mfinal_logits_bias\u001b[39m.\u001b[39mto(lm_logits\u001b[39m.\u001b[39mdevice)\n\u001b[1;32m   1399\u001b[0m masked_lm_loss \u001b[39m=\u001b[39m \u001b[39mNone\u001b[39;00m\n",
      "File \u001b[0;32m~/Documents/crawling/.venv/lib/python3.11/site-packages/torch/nn/modules/module.py:1501\u001b[0m, in \u001b[0;36mModule._call_impl\u001b[0;34m(self, *args, **kwargs)\u001b[0m\n\u001b[1;32m   1496\u001b[0m \u001b[39m# If we don't have any hooks, we want to skip the rest of the logic in\u001b[39;00m\n\u001b[1;32m   1497\u001b[0m \u001b[39m# this function, and just call forward.\u001b[39;00m\n\u001b[1;32m   1498\u001b[0m \u001b[39mif\u001b[39;00m \u001b[39mnot\u001b[39;00m (\u001b[39mself\u001b[39m\u001b[39m.\u001b[39m_backward_hooks \u001b[39mor\u001b[39;00m \u001b[39mself\u001b[39m\u001b[39m.\u001b[39m_backward_pre_hooks \u001b[39mor\u001b[39;00m \u001b[39mself\u001b[39m\u001b[39m.\u001b[39m_forward_hooks \u001b[39mor\u001b[39;00m \u001b[39mself\u001b[39m\u001b[39m.\u001b[39m_forward_pre_hooks\n\u001b[1;32m   1499\u001b[0m         \u001b[39mor\u001b[39;00m _global_backward_pre_hooks \u001b[39mor\u001b[39;00m _global_backward_hooks\n\u001b[1;32m   1500\u001b[0m         \u001b[39mor\u001b[39;00m _global_forward_hooks \u001b[39mor\u001b[39;00m _global_forward_pre_hooks):\n\u001b[0;32m-> 1501\u001b[0m     \u001b[39mreturn\u001b[39;00m forward_call(\u001b[39m*\u001b[39;49margs, \u001b[39m*\u001b[39;49m\u001b[39m*\u001b[39;49mkwargs)\n\u001b[1;32m   1502\u001b[0m \u001b[39m# Do not call functions when jit is used\u001b[39;00m\n\u001b[1;32m   1503\u001b[0m full_backward_hooks, non_full_backward_hooks \u001b[39m=\u001b[39m [], []\n",
      "File \u001b[0;32m~/Documents/crawling/.venv/lib/python3.11/site-packages/torch/nn/modules/linear.py:114\u001b[0m, in \u001b[0;36mLinear.forward\u001b[0;34m(self, input)\u001b[0m\n\u001b[1;32m    113\u001b[0m \u001b[39mdef\u001b[39;00m \u001b[39mforward\u001b[39m(\u001b[39mself\u001b[39m, \u001b[39minput\u001b[39m: Tensor) \u001b[39m-\u001b[39m\u001b[39m>\u001b[39m Tensor:\n\u001b[0;32m--> 114\u001b[0m     \u001b[39mreturn\u001b[39;00m F\u001b[39m.\u001b[39;49mlinear(\u001b[39minput\u001b[39;49m, \u001b[39mself\u001b[39;49m\u001b[39m.\u001b[39;49mweight, \u001b[39mself\u001b[39;49m\u001b[39m.\u001b[39;49mbias)\n",
      "\u001b[0;31mKeyboardInterrupt\u001b[0m: "
     ]
    }
   ],
   "source": [
    "links = []\n",
    "summaries =[]\n",
    "\n",
    "passed_keyword = []\n",
    "for key in top_keywords:\n",
    "    try:\n",
    "        summaries.append(summarization_article(key))\n",
    "        wb = load_workbook(f\"./resources/{key}.xlsx\")\n",
    "        ws = wb[key]\n",
    "        links.append(ws.cell(row=1, column=2).value) \n",
    "    except IndexError:\n",
    "        passed_keyword.append(key)\n",
    "        continue\n",
    "    except FileNotFoundError:\n",
    "        passed_keyword.append(key)\n",
    "        continue\n",
    "    if summaries[-1] == \"\":\n",
    "        summaries[-1] = (ws.cell(row=1, column=3).value).replace(\".\",\"\")\n",
    "for i in passed_keyword:\n",
    "    top_keywords.remove(i)"
   ]
  },
  {
   "attachments": {},
   "cell_type": "markdown",
   "metadata": {},
   "source": [
    "## (2) Topic"
   ]
  },
  {
   "cell_type": "code",
   "execution_count": 42,
   "metadata": {},
   "outputs": [
    {
     "name": "stdout",
     "output_type": "stream",
     "text": [
      "huggingface/tokenizers: The current process just got forked, after parallelism has already been used. Disabling parallelism to avoid deadlocks...\n",
      "To disable this warning, you can either:\n",
      "\t- Avoid using `tokenizers` before the fork if possible\n",
      "\t- Explicitly set the environment variable TOKENIZERS_PARALLELISM=(true | false)\n",
      "Requirement already satisfied: transformers in ./.venv/lib/python3.11/site-packages (4.29.2)\n",
      "Requirement already satisfied: filelock in ./.venv/lib/python3.11/site-packages (from transformers) (3.12.0)\n",
      "Requirement already satisfied: huggingface-hub<1.0,>=0.14.1 in ./.venv/lib/python3.11/site-packages (from transformers) (0.14.1)\n",
      "Requirement already satisfied: numpy>=1.17 in ./.venv/lib/python3.11/site-packages (from transformers) (1.24.3)\n",
      "Requirement already satisfied: packaging>=20.0 in ./.venv/lib/python3.11/site-packages (from transformers) (23.1)\n",
      "Requirement already satisfied: pyyaml>=5.1 in ./.venv/lib/python3.11/site-packages (from transformers) (6.0)\n",
      "Requirement already satisfied: regex!=2019.12.17 in ./.venv/lib/python3.11/site-packages (from transformers) (2023.5.5)\n",
      "Requirement already satisfied: requests in ./.venv/lib/python3.11/site-packages (from transformers) (2.30.0)\n",
      "Requirement already satisfied: tokenizers!=0.11.3,<0.14,>=0.11.1 in ./.venv/lib/python3.11/site-packages (from transformers) (0.13.3)\n",
      "Requirement already satisfied: tqdm>=4.27 in ./.venv/lib/python3.11/site-packages (from transformers) (4.65.0)\n",
      "Requirement already satisfied: fsspec in ./.venv/lib/python3.11/site-packages (from huggingface-hub<1.0,>=0.14.1->transformers) (2023.5.0)\n",
      "Requirement already satisfied: typing-extensions>=3.7.4.3 in ./.venv/lib/python3.11/site-packages (from huggingface-hub<1.0,>=0.14.1->transformers) (4.6.2)\n",
      "Requirement already satisfied: charset-normalizer<4,>=2 in ./.venv/lib/python3.11/site-packages (from requests->transformers) (3.1.0)\n",
      "Requirement already satisfied: idna<4,>=2.5 in ./.venv/lib/python3.11/site-packages (from requests->transformers) (3.4)\n",
      "Requirement already satisfied: urllib3<3,>=1.21.1 in ./.venv/lib/python3.11/site-packages (from requests->transformers) (2.0.2)\n",
      "Requirement already satisfied: certifi>=2017.4.17 in ./.venv/lib/python3.11/site-packages (from requests->transformers) (2023.5.7)\n",
      "huggingface/tokenizers: The current process just got forked, after parallelism has already been used. Disabling parallelism to avoid deadlocks...\n",
      "To disable this warning, you can either:\n",
      "\t- Avoid using `tokenizers` before the fork if possible\n",
      "\t- Explicitly set the environment variable TOKENIZERS_PARALLELISM=(true | false)\n",
      "Requirement already satisfied: jupyter in ./.venv/lib/python3.11/site-packages (1.0.0)\n",
      "Requirement already satisfied: notebook in ./.venv/lib/python3.11/site-packages (from jupyter) (6.5.4)\n",
      "Requirement already satisfied: qtconsole in ./.venv/lib/python3.11/site-packages (from jupyter) (5.4.3)\n",
      "Requirement already satisfied: jupyter-console in ./.venv/lib/python3.11/site-packages (from jupyter) (6.6.3)\n",
      "Requirement already satisfied: nbconvert in ./.venv/lib/python3.11/site-packages (from jupyter) (7.4.0)\n",
      "Requirement already satisfied: ipykernel in ./.venv/lib/python3.11/site-packages (from jupyter) (6.23.1)\n",
      "Requirement already satisfied: ipywidgets in ./.venv/lib/python3.11/site-packages (from jupyter) (8.0.6)\n",
      "Requirement already satisfied: appnope in ./.venv/lib/python3.11/site-packages (from ipykernel->jupyter) (0.1.3)\n",
      "Requirement already satisfied: comm>=0.1.1 in ./.venv/lib/python3.11/site-packages (from ipykernel->jupyter) (0.1.3)\n",
      "Requirement already satisfied: debugpy>=1.6.5 in ./.venv/lib/python3.11/site-packages (from ipykernel->jupyter) (1.6.7)\n",
      "Requirement already satisfied: ipython>=7.23.1 in ./.venv/lib/python3.11/site-packages (from ipykernel->jupyter) (8.13.2)\n",
      "Requirement already satisfied: jupyter-client>=6.1.12 in ./.venv/lib/python3.11/site-packages (from ipykernel->jupyter) (8.2.0)\n",
      "Requirement already satisfied: jupyter-core!=5.0.*,>=4.12 in ./.venv/lib/python3.11/site-packages (from ipykernel->jupyter) (5.3.0)\n",
      "Requirement already satisfied: matplotlib-inline>=0.1 in ./.venv/lib/python3.11/site-packages (from ipykernel->jupyter) (0.1.6)\n",
      "Requirement already satisfied: nest-asyncio in ./.venv/lib/python3.11/site-packages (from ipykernel->jupyter) (1.5.6)\n",
      "Requirement already satisfied: packaging in ./.venv/lib/python3.11/site-packages (from ipykernel->jupyter) (23.1)\n",
      "Requirement already satisfied: psutil in ./.venv/lib/python3.11/site-packages (from ipykernel->jupyter) (5.9.5)\n",
      "Requirement already satisfied: pyzmq>=20 in ./.venv/lib/python3.11/site-packages (from ipykernel->jupyter) (25.1.0)\n",
      "Requirement already satisfied: tornado>=6.1 in ./.venv/lib/python3.11/site-packages (from ipykernel->jupyter) (6.3.2)\n",
      "Requirement already satisfied: traitlets>=5.4.0 in ./.venv/lib/python3.11/site-packages (from ipykernel->jupyter) (5.9.0)\n",
      "Requirement already satisfied: widgetsnbextension~=4.0.7 in ./.venv/lib/python3.11/site-packages (from ipywidgets->jupyter) (4.0.7)\n",
      "Requirement already satisfied: jupyterlab-widgets~=3.0.7 in ./.venv/lib/python3.11/site-packages (from ipywidgets->jupyter) (3.0.7)\n",
      "Requirement already satisfied: prompt-toolkit>=3.0.30 in ./.venv/lib/python3.11/site-packages (from jupyter-console->jupyter) (3.0.38)\n",
      "Requirement already satisfied: pygments in ./.venv/lib/python3.11/site-packages (from jupyter-console->jupyter) (2.15.1)\n",
      "Requirement already satisfied: beautifulsoup4 in ./.venv/lib/python3.11/site-packages (from nbconvert->jupyter) (4.12.2)\n",
      "Requirement already satisfied: bleach in ./.venv/lib/python3.11/site-packages (from nbconvert->jupyter) (6.0.0)\n",
      "Requirement already satisfied: defusedxml in ./.venv/lib/python3.11/site-packages (from nbconvert->jupyter) (0.7.1)\n",
      "Requirement already satisfied: jinja2>=3.0 in ./.venv/lib/python3.11/site-packages (from nbconvert->jupyter) (3.1.2)\n",
      "Requirement already satisfied: jupyterlab-pygments in ./.venv/lib/python3.11/site-packages (from nbconvert->jupyter) (0.2.2)\n",
      "Requirement already satisfied: markupsafe>=2.0 in ./.venv/lib/python3.11/site-packages (from nbconvert->jupyter) (2.1.2)\n",
      "Requirement already satisfied: mistune<3,>=2.0.3 in ./.venv/lib/python3.11/site-packages (from nbconvert->jupyter) (2.0.5)\n",
      "Requirement already satisfied: nbclient>=0.5.0 in ./.venv/lib/python3.11/site-packages (from nbconvert->jupyter) (0.8.0)\n",
      "Requirement already satisfied: nbformat>=5.1 in ./.venv/lib/python3.11/site-packages (from nbconvert->jupyter) (5.8.0)\n",
      "Requirement already satisfied: pandocfilters>=1.4.1 in ./.venv/lib/python3.11/site-packages (from nbconvert->jupyter) (1.5.0)\n",
      "Requirement already satisfied: tinycss2 in ./.venv/lib/python3.11/site-packages (from nbconvert->jupyter) (1.2.1)\n",
      "Requirement already satisfied: argon2-cffi in ./.venv/lib/python3.11/site-packages (from notebook->jupyter) (21.3.0)\n",
      "Requirement already satisfied: ipython-genutils in ./.venv/lib/python3.11/site-packages (from notebook->jupyter) (0.2.0)\n",
      "Requirement already satisfied: Send2Trash>=1.8.0 in ./.venv/lib/python3.11/site-packages (from notebook->jupyter) (1.8.2)\n",
      "Requirement already satisfied: terminado>=0.8.3 in ./.venv/lib/python3.11/site-packages (from notebook->jupyter) (0.17.1)\n",
      "Requirement already satisfied: prometheus-client in ./.venv/lib/python3.11/site-packages (from notebook->jupyter) (0.17.0)\n",
      "Requirement already satisfied: nbclassic>=0.4.7 in ./.venv/lib/python3.11/site-packages (from notebook->jupyter) (1.0.0)\n",
      "Requirement already satisfied: qtpy>=2.0.1 in ./.venv/lib/python3.11/site-packages (from qtconsole->jupyter) (2.3.1)\n",
      "Requirement already satisfied: backcall in ./.venv/lib/python3.11/site-packages (from ipython>=7.23.1->ipykernel->jupyter) (0.2.0)\n",
      "Requirement already satisfied: decorator in ./.venv/lib/python3.11/site-packages (from ipython>=7.23.1->ipykernel->jupyter) (5.1.1)\n",
      "Requirement already satisfied: jedi>=0.16 in ./.venv/lib/python3.11/site-packages (from ipython>=7.23.1->ipykernel->jupyter) (0.18.2)\n",
      "Requirement already satisfied: pickleshare in ./.venv/lib/python3.11/site-packages (from ipython>=7.23.1->ipykernel->jupyter) (0.7.5)\n",
      "Requirement already satisfied: stack-data in ./.venv/lib/python3.11/site-packages (from ipython>=7.23.1->ipykernel->jupyter) (0.6.2)\n",
      "Requirement already satisfied: pexpect>4.3 in ./.venv/lib/python3.11/site-packages (from ipython>=7.23.1->ipykernel->jupyter) (4.8.0)\n",
      "Requirement already satisfied: python-dateutil>=2.8.2 in ./.venv/lib/python3.11/site-packages (from jupyter-client>=6.1.12->ipykernel->jupyter) (2.8.2)\n",
      "Requirement already satisfied: platformdirs>=2.5 in ./.venv/lib/python3.11/site-packages (from jupyter-core!=5.0.*,>=4.12->ipykernel->jupyter) (3.5.1)\n",
      "Requirement already satisfied: jupyter-server>=1.8 in ./.venv/lib/python3.11/site-packages (from nbclassic>=0.4.7->notebook->jupyter) (2.6.0)\n",
      "Requirement already satisfied: notebook-shim>=0.2.3 in ./.venv/lib/python3.11/site-packages (from nbclassic>=0.4.7->notebook->jupyter) (0.2.3)\n",
      "Requirement already satisfied: fastjsonschema in ./.venv/lib/python3.11/site-packages (from nbformat>=5.1->nbconvert->jupyter) (2.17.1)\n",
      "Requirement already satisfied: jsonschema>=2.6 in ./.venv/lib/python3.11/site-packages (from nbformat>=5.1->nbconvert->jupyter) (4.17.3)\n",
      "Requirement already satisfied: wcwidth in ./.venv/lib/python3.11/site-packages (from prompt-toolkit>=3.0.30->jupyter-console->jupyter) (0.2.6)\n",
      "Requirement already satisfied: ptyprocess in ./.venv/lib/python3.11/site-packages (from terminado>=0.8.3->notebook->jupyter) (0.7.0)\n",
      "Requirement already satisfied: argon2-cffi-bindings in ./.venv/lib/python3.11/site-packages (from argon2-cffi->notebook->jupyter) (21.2.0)\n",
      "Requirement already satisfied: soupsieve>1.2 in ./.venv/lib/python3.11/site-packages (from beautifulsoup4->nbconvert->jupyter) (2.4.1)\n",
      "Requirement already satisfied: six>=1.9.0 in ./.venv/lib/python3.11/site-packages (from bleach->nbconvert->jupyter) (1.16.0)\n",
      "Requirement already satisfied: webencodings in ./.venv/lib/python3.11/site-packages (from bleach->nbconvert->jupyter) (0.5.1)\n",
      "Requirement already satisfied: parso<0.9.0,>=0.8.0 in ./.venv/lib/python3.11/site-packages (from jedi>=0.16->ipython>=7.23.1->ipykernel->jupyter) (0.8.3)\n",
      "Requirement already satisfied: attrs>=17.4.0 in ./.venv/lib/python3.11/site-packages (from jsonschema>=2.6->nbformat>=5.1->nbconvert->jupyter) (23.1.0)\n",
      "Requirement already satisfied: pyrsistent!=0.17.0,!=0.17.1,!=0.17.2,>=0.14.0 in ./.venv/lib/python3.11/site-packages (from jsonschema>=2.6->nbformat>=5.1->nbconvert->jupyter) (0.19.3)\n",
      "Requirement already satisfied: anyio>=3.1.0 in ./.venv/lib/python3.11/site-packages (from jupyter-server>=1.8->nbclassic>=0.4.7->notebook->jupyter) (3.7.0)\n",
      "Requirement already satisfied: jupyter-events>=0.6.0 in ./.venv/lib/python3.11/site-packages (from jupyter-server>=1.8->nbclassic>=0.4.7->notebook->jupyter) (0.6.3)\n",
      "Requirement already satisfied: jupyter-server-terminals in ./.venv/lib/python3.11/site-packages (from jupyter-server>=1.8->nbclassic>=0.4.7->notebook->jupyter) (0.4.4)\n",
      "Requirement already satisfied: overrides in ./.venv/lib/python3.11/site-packages (from jupyter-server>=1.8->nbclassic>=0.4.7->notebook->jupyter) (7.3.1)\n",
      "Requirement already satisfied: websocket-client in ./.venv/lib/python3.11/site-packages (from jupyter-server>=1.8->nbclassic>=0.4.7->notebook->jupyter) (1.5.2)\n",
      "Requirement already satisfied: cffi>=1.0.1 in ./.venv/lib/python3.11/site-packages (from argon2-cffi-bindings->argon2-cffi->notebook->jupyter) (1.15.1)\n",
      "Requirement already satisfied: executing>=1.2.0 in ./.venv/lib/python3.11/site-packages (from stack-data->ipython>=7.23.1->ipykernel->jupyter) (1.2.0)\n",
      "Requirement already satisfied: asttokens>=2.1.0 in ./.venv/lib/python3.11/site-packages (from stack-data->ipython>=7.23.1->ipykernel->jupyter) (2.2.1)\n",
      "Requirement already satisfied: pure-eval in ./.venv/lib/python3.11/site-packages (from stack-data->ipython>=7.23.1->ipykernel->jupyter) (0.2.2)\n",
      "Requirement already satisfied: idna>=2.8 in ./.venv/lib/python3.11/site-packages (from anyio>=3.1.0->jupyter-server>=1.8->nbclassic>=0.4.7->notebook->jupyter) (3.4)\n",
      "Requirement already satisfied: sniffio>=1.1 in ./.venv/lib/python3.11/site-packages (from anyio>=3.1.0->jupyter-server>=1.8->nbclassic>=0.4.7->notebook->jupyter) (1.3.0)\n",
      "Requirement already satisfied: pycparser in ./.venv/lib/python3.11/site-packages (from cffi>=1.0.1->argon2-cffi-bindings->argon2-cffi->notebook->jupyter) (2.21)\n",
      "Requirement already satisfied: python-json-logger>=2.0.4 in ./.venv/lib/python3.11/site-packages (from jupyter-events>=0.6.0->jupyter-server>=1.8->nbclassic>=0.4.7->notebook->jupyter) (2.0.7)\n",
      "Requirement already satisfied: pyyaml>=5.3 in ./.venv/lib/python3.11/site-packages (from jupyter-events>=0.6.0->jupyter-server>=1.8->nbclassic>=0.4.7->notebook->jupyter) (6.0)\n",
      "Requirement already satisfied: rfc3339-validator in ./.venv/lib/python3.11/site-packages (from jupyter-events>=0.6.0->jupyter-server>=1.8->nbclassic>=0.4.7->notebook->jupyter) (0.1.4)\n",
      "Requirement already satisfied: rfc3986-validator>=0.1.1 in ./.venv/lib/python3.11/site-packages (from jupyter-events>=0.6.0->jupyter-server>=1.8->nbclassic>=0.4.7->notebook->jupyter) (0.1.1)\n",
      "Requirement already satisfied: fqdn in ./.venv/lib/python3.11/site-packages (from jsonschema>=2.6->nbformat>=5.1->nbconvert->jupyter) (1.5.1)\n",
      "Requirement already satisfied: isoduration in ./.venv/lib/python3.11/site-packages (from jsonschema>=2.6->nbformat>=5.1->nbconvert->jupyter) (20.11.0)\n",
      "Requirement already satisfied: jsonpointer>1.13 in ./.venv/lib/python3.11/site-packages (from jsonschema>=2.6->nbformat>=5.1->nbconvert->jupyter) (2.3)\n",
      "Requirement already satisfied: uri-template in ./.venv/lib/python3.11/site-packages (from jsonschema>=2.6->nbformat>=5.1->nbconvert->jupyter) (1.2.0)\n",
      "Requirement already satisfied: webcolors>=1.11 in ./.venv/lib/python3.11/site-packages (from jsonschema>=2.6->nbformat>=5.1->nbconvert->jupyter) (1.13)\n",
      "Requirement already satisfied: arrow>=0.15.0 in ./.venv/lib/python3.11/site-packages (from isoduration->jsonschema>=2.6->nbformat>=5.1->nbconvert->jupyter) (1.2.3)\n",
      "huggingface/tokenizers: The current process just got forked, after parallelism has already been used. Disabling parallelism to avoid deadlocks...\n",
      "To disable this warning, you can either:\n",
      "\t- Avoid using `tokenizers` before the fork if possible\n",
      "\t- Explicitly set the environment variable TOKENIZERS_PARALLELISM=(true | false)\n",
      "Requirement already satisfied: ipywidgets in ./.venv/lib/python3.11/site-packages (8.0.6)\n",
      "Requirement already satisfied: ipykernel>=4.5.1 in ./.venv/lib/python3.11/site-packages (from ipywidgets) (6.23.1)\n",
      "Requirement already satisfied: ipython>=6.1.0 in ./.venv/lib/python3.11/site-packages (from ipywidgets) (8.13.2)\n",
      "Requirement already satisfied: traitlets>=4.3.1 in ./.venv/lib/python3.11/site-packages (from ipywidgets) (5.9.0)\n",
      "Requirement already satisfied: widgetsnbextension~=4.0.7 in ./.venv/lib/python3.11/site-packages (from ipywidgets) (4.0.7)\n",
      "Requirement already satisfied: jupyterlab-widgets~=3.0.7 in ./.venv/lib/python3.11/site-packages (from ipywidgets) (3.0.7)\n",
      "Requirement already satisfied: appnope in ./.venv/lib/python3.11/site-packages (from ipykernel>=4.5.1->ipywidgets) (0.1.3)\n",
      "Requirement already satisfied: comm>=0.1.1 in ./.venv/lib/python3.11/site-packages (from ipykernel>=4.5.1->ipywidgets) (0.1.3)\n",
      "Requirement already satisfied: debugpy>=1.6.5 in ./.venv/lib/python3.11/site-packages (from ipykernel>=4.5.1->ipywidgets) (1.6.7)\n",
      "Requirement already satisfied: jupyter-client>=6.1.12 in ./.venv/lib/python3.11/site-packages (from ipykernel>=4.5.1->ipywidgets) (8.2.0)\n",
      "Requirement already satisfied: jupyter-core!=5.0.*,>=4.12 in ./.venv/lib/python3.11/site-packages (from ipykernel>=4.5.1->ipywidgets) (5.3.0)\n",
      "Requirement already satisfied: matplotlib-inline>=0.1 in ./.venv/lib/python3.11/site-packages (from ipykernel>=4.5.1->ipywidgets) (0.1.6)\n",
      "Requirement already satisfied: nest-asyncio in ./.venv/lib/python3.11/site-packages (from ipykernel>=4.5.1->ipywidgets) (1.5.6)\n",
      "Requirement already satisfied: packaging in ./.venv/lib/python3.11/site-packages (from ipykernel>=4.5.1->ipywidgets) (23.1)\n",
      "Requirement already satisfied: psutil in ./.venv/lib/python3.11/site-packages (from ipykernel>=4.5.1->ipywidgets) (5.9.5)\n",
      "Requirement already satisfied: pyzmq>=20 in ./.venv/lib/python3.11/site-packages (from ipykernel>=4.5.1->ipywidgets) (25.1.0)\n",
      "Requirement already satisfied: tornado>=6.1 in ./.venv/lib/python3.11/site-packages (from ipykernel>=4.5.1->ipywidgets) (6.3.2)\n",
      "Requirement already satisfied: backcall in ./.venv/lib/python3.11/site-packages (from ipython>=6.1.0->ipywidgets) (0.2.0)\n",
      "Requirement already satisfied: decorator in ./.venv/lib/python3.11/site-packages (from ipython>=6.1.0->ipywidgets) (5.1.1)\n",
      "Requirement already satisfied: jedi>=0.16 in ./.venv/lib/python3.11/site-packages (from ipython>=6.1.0->ipywidgets) (0.18.2)\n",
      "Requirement already satisfied: pickleshare in ./.venv/lib/python3.11/site-packages (from ipython>=6.1.0->ipywidgets) (0.7.5)\n",
      "Requirement already satisfied: prompt-toolkit!=3.0.37,<3.1.0,>=3.0.30 in ./.venv/lib/python3.11/site-packages (from ipython>=6.1.0->ipywidgets) (3.0.38)\n",
      "Requirement already satisfied: pygments>=2.4.0 in ./.venv/lib/python3.11/site-packages (from ipython>=6.1.0->ipywidgets) (2.15.1)\n",
      "Requirement already satisfied: stack-data in ./.venv/lib/python3.11/site-packages (from ipython>=6.1.0->ipywidgets) (0.6.2)\n",
      "Requirement already satisfied: pexpect>4.3 in ./.venv/lib/python3.11/site-packages (from ipython>=6.1.0->ipywidgets) (4.8.0)\n",
      "Requirement already satisfied: parso<0.9.0,>=0.8.0 in ./.venv/lib/python3.11/site-packages (from jedi>=0.16->ipython>=6.1.0->ipywidgets) (0.8.3)\n",
      "Requirement already satisfied: python-dateutil>=2.8.2 in ./.venv/lib/python3.11/site-packages (from jupyter-client>=6.1.12->ipykernel>=4.5.1->ipywidgets) (2.8.2)\n",
      "Requirement already satisfied: platformdirs>=2.5 in ./.venv/lib/python3.11/site-packages (from jupyter-core!=5.0.*,>=4.12->ipykernel>=4.5.1->ipywidgets) (3.5.1)\n",
      "Requirement already satisfied: ptyprocess>=0.5 in ./.venv/lib/python3.11/site-packages (from pexpect>4.3->ipython>=6.1.0->ipywidgets) (0.7.0)\n",
      "Requirement already satisfied: wcwidth in ./.venv/lib/python3.11/site-packages (from prompt-toolkit!=3.0.37,<3.1.0,>=3.0.30->ipython>=6.1.0->ipywidgets) (0.2.6)\n",
      "Requirement already satisfied: executing>=1.2.0 in ./.venv/lib/python3.11/site-packages (from stack-data->ipython>=6.1.0->ipywidgets) (1.2.0)\n",
      "Requirement already satisfied: asttokens>=2.1.0 in ./.venv/lib/python3.11/site-packages (from stack-data->ipython>=6.1.0->ipywidgets) (2.2.1)\n",
      "Requirement already satisfied: pure-eval in ./.venv/lib/python3.11/site-packages (from stack-data->ipython>=6.1.0->ipywidgets) (0.2.2)\n",
      "Requirement already satisfied: six in ./.venv/lib/python3.11/site-packages (from asttokens>=2.1.0->stack-data->ipython>=6.1.0->ipywidgets) (1.16.0)\n"
     ]
    }
   ],
   "source": [
    "!pip install transformers\n",
    "!pip install --upgrade jupyter\n",
    "!pip install --upgrade ipywidgets\n",
    "\n",
    "import torch\n",
    "from torch.nn import functional as F\n",
    "from torch.utils.data import DataLoader, Dataset\n",
    "from tqdm.notebook import tqdm\n",
    "\n",
    "import pandas as pd\n",
    "import transformers\n",
    "from transformers import AutoTokenizer, AdamW, RobertaForSequenceClassification\n",
    "from ipywidgets import IntProgress\n",
    "from collections import Counter\n",
    "from openpyxl import load_workbook\n"
   ]
  },
  {
   "cell_type": "code",
   "execution_count": 43,
   "metadata": {},
   "outputs": [],
   "source": [
    "topics = []\n",
    "\n",
    "def topic_extract(keyword):\n",
    "  try:\n",
    "    load_wb = load_workbook(\"./resources/\"+keyword + \".xlsx\", data_only=True)\n",
    "    load_ws = load_wb.get_sheet_by_name(keyword)\n",
    "    test_data = open(\"test_data.csv\", \"w\", encoding=\"utf-8-sig\")\n",
    "    test_data.write(\"index,topic\\n\")\n",
    "    for i in range(1, load_ws.max_row + 1):\n",
    "        if (load_ws.cell(row=i, column=3).value == None):\n",
    "            test_data.write(str(load_ws.cell(row=i, column=1).value) + ',' + \"UNK\\n\")\n",
    "        else:\n",
    "            test_data.write(str(load_ws.cell(row=i, column=1).value) + ',' + load_ws.cell(row=i, column=3).value.replace(\",\", \"\").replace(\".\",\"\").replace(\"[\",\"\").replace(\"]\",\"\").replace(\"(\",\"\").replace(\")\",\"\").replace('\"',\"\").replace(\"'\",\"\").replace(\":\",\"\").replace(\"-\",\"\").replace(\"·\",\"\") + \"\\n\")\n",
    "    test_data.close()\n",
    "    test = pd.read_csv('test_data.csv', encoding=\"utf-8-sig\")\n",
    "    class NTDataset_test(Dataset):\n",
    "      \n",
    "      def __init__(self, csv_file):\n",
    "        self.dataset = csv_file\n",
    "        self.tokenizer = AutoTokenizer.from_pretrained(\"klue/roberta-large\")\n",
    "\n",
    "        print(self.dataset.describe())\n",
    "      \n",
    "      def __len__(self):\n",
    "        return len(self.dataset)\n",
    "      \n",
    "      def __getitem__(self, idx):\n",
    "        row = self.dataset.iloc[idx, 1:2].values\n",
    "        text = row[0]\n",
    "        inputs = self.tokenizer(\n",
    "            text, \n",
    "            return_tensors='pt',\n",
    "            truncation=True,\n",
    "            max_length=15,\n",
    "            pad_to_max_length=True,\n",
    "            add_special_tokens=True\n",
    "            )\n",
    "        \n",
    "        input_ids = inputs['input_ids'][0]\n",
    "        attention_mask = inputs['attention_mask'][0]\n",
    "\n",
    "        return input_ids, attention_mask\n",
    "    batch_size = 128\n",
    "    test_dataset = NTDataset_test(test)\n",
    "    test_loader = DataLoader(test_dataset, batch_size=batch_size, shuffle=False)\n",
    "    if torch.backends.mps.is_available:\n",
    "        device = torch.device(\"mps\")\n",
    "    elif torch.cuda.is_available:\n",
    "        device = torch.device(\"cuda\")\n",
    "    else:\n",
    "        device = torch.device(\"cpu\")\n",
    "    # test\n",
    "    model = RobertaForSequenceClassification.from_pretrained(\"klue/roberta-large\", num_labels=7).to(device)\n",
    "    model.load_state_dict(torch.load(\"model.pth\"))\n",
    "    model.eval()\n",
    "\n",
    "    pred = []\n",
    "\n",
    "    for input_ids_batch, attention_masks_batch in tqdm(test_loader):\n",
    "      y_pred = model(input_ids_batch.to(device), attention_mask=attention_masks_batch.to(device))[0]\n",
    "      _, predicted = torch.max(y_pred, 1)\n",
    "      pred.extend(predicted.tolist())\n",
    "    topic_list = [\"IT과학\", \"경제\", \"사회\", \"생활문화\", \"세계\", \"스포츠\", \"정치\"]\n",
    "    temp = []\n",
    "    for i in range(1, len(pred) + 1):\n",
    "      temp.append(topic_list[pred[i - 1]])\n",
    "    topics.append(Counter(temp).most_common(1)[0][0])\n",
    "    # load_wb.save(filename)\n",
    "    load_wb.close()\n",
    "  except FileNotFoundError:\n",
    "     pass\n",
    "     \n"
   ]
  },
  {
   "cell_type": "code",
   "execution_count": 44,
   "metadata": {},
   "outputs": [
    {
     "name": "stderr",
     "output_type": "stream",
     "text": [
      "/var/folders/k1/dqklgtzs47vckvrkl74mxsxc0000gn/T/ipykernel_1008/3765010246.py:5: DeprecationWarning: Call to deprecated function get_sheet_by_name (Use wb[sheetname]).\n",
      "  load_ws = load_wb.get_sheet_by_name(keyword)\n"
     ]
    },
    {
     "name": "stdout",
     "output_type": "stream",
     "text": [
      "           index\n",
      "count  40.000000\n",
      "mean   19.500000\n",
      "std    11.690452\n",
      "min     0.000000\n",
      "25%     9.750000\n",
      "50%    19.500000\n",
      "75%    29.250000\n",
      "max    39.000000\n"
     ]
    },
    {
     "name": "stderr",
     "output_type": "stream",
     "text": [
      "Some weights of the model checkpoint at klue/roberta-large were not used when initializing RobertaForSequenceClassification: ['lm_head.dense.bias', 'lm_head.layer_norm.weight', 'lm_head.bias', 'lm_head.dense.weight', 'lm_head.decoder.weight', 'lm_head.layer_norm.bias', 'lm_head.decoder.bias']\n",
      "- This IS expected if you are initializing RobertaForSequenceClassification from the checkpoint of a model trained on another task or with another architecture (e.g. initializing a BertForSequenceClassification model from a BertForPreTraining model).\n",
      "- This IS NOT expected if you are initializing RobertaForSequenceClassification from the checkpoint of a model that you expect to be exactly identical (initializing a BertForSequenceClassification model from a BertForSequenceClassification model).\n",
      "Some weights of RobertaForSequenceClassification were not initialized from the model checkpoint at klue/roberta-large and are newly initialized: ['classifier.out_proj.weight', 'classifier.dense.bias', 'classifier.dense.weight', 'classifier.out_proj.bias']\n",
      "You should probably TRAIN this model on a down-stream task to be able to use it for predictions and inference.\n"
     ]
    },
    {
     "data": {
      "application/vnd.jupyter.widget-view+json": {
       "model_id": "bd30b1dac0f049939640b31fba11ffbd",
       "version_major": 2,
       "version_minor": 0
      },
      "text/plain": [
       "  0%|          | 0/1 [00:00<?, ?it/s]"
      ]
     },
     "metadata": {},
     "output_type": "display_data"
    },
    {
     "name": "stderr",
     "output_type": "stream",
     "text": [
      "/var/folders/k1/dqklgtzs47vckvrkl74mxsxc0000gn/T/ipykernel_1008/3765010246.py:5: DeprecationWarning: Call to deprecated function get_sheet_by_name (Use wb[sheetname]).\n",
      "  load_ws = load_wb.get_sheet_by_name(keyword)\n"
     ]
    },
    {
     "name": "stdout",
     "output_type": "stream",
     "text": [
      "          index\n",
      "count  50.00000\n",
      "mean   24.50000\n",
      "std    14.57738\n",
      "min     0.00000\n",
      "25%    12.25000\n",
      "50%    24.50000\n",
      "75%    36.75000\n",
      "max    49.00000\n"
     ]
    },
    {
     "name": "stderr",
     "output_type": "stream",
     "text": [
      "Some weights of the model checkpoint at klue/roberta-large were not used when initializing RobertaForSequenceClassification: ['lm_head.dense.bias', 'lm_head.layer_norm.weight', 'lm_head.bias', 'lm_head.dense.weight', 'lm_head.decoder.weight', 'lm_head.layer_norm.bias', 'lm_head.decoder.bias']\n",
      "- This IS expected if you are initializing RobertaForSequenceClassification from the checkpoint of a model trained on another task or with another architecture (e.g. initializing a BertForSequenceClassification model from a BertForPreTraining model).\n",
      "- This IS NOT expected if you are initializing RobertaForSequenceClassification from the checkpoint of a model that you expect to be exactly identical (initializing a BertForSequenceClassification model from a BertForSequenceClassification model).\n",
      "Some weights of RobertaForSequenceClassification were not initialized from the model checkpoint at klue/roberta-large and are newly initialized: ['classifier.out_proj.weight', 'classifier.dense.bias', 'classifier.dense.weight', 'classifier.out_proj.bias']\n",
      "You should probably TRAIN this model on a down-stream task to be able to use it for predictions and inference.\n"
     ]
    },
    {
     "data": {
      "application/vnd.jupyter.widget-view+json": {
       "model_id": "6239a4653cbc4ab6982d2c86625169e9",
       "version_major": 2,
       "version_minor": 0
      },
      "text/plain": [
       "  0%|          | 0/1 [00:00<?, ?it/s]"
      ]
     },
     "metadata": {},
     "output_type": "display_data"
    },
    {
     "name": "stderr",
     "output_type": "stream",
     "text": [
      "/var/folders/k1/dqklgtzs47vckvrkl74mxsxc0000gn/T/ipykernel_1008/3765010246.py:5: DeprecationWarning: Call to deprecated function get_sheet_by_name (Use wb[sheetname]).\n",
      "  load_ws = load_wb.get_sheet_by_name(keyword)\n"
     ]
    },
    {
     "name": "stdout",
     "output_type": "stream",
     "text": [
      "          index\n",
      "count  10.00000\n",
      "mean    4.50000\n",
      "std     3.02765\n",
      "min     0.00000\n",
      "25%     2.25000\n",
      "50%     4.50000\n",
      "75%     6.75000\n",
      "max     9.00000\n"
     ]
    },
    {
     "name": "stderr",
     "output_type": "stream",
     "text": [
      "Some weights of the model checkpoint at klue/roberta-large were not used when initializing RobertaForSequenceClassification: ['lm_head.dense.bias', 'lm_head.layer_norm.weight', 'lm_head.bias', 'lm_head.dense.weight', 'lm_head.decoder.weight', 'lm_head.layer_norm.bias', 'lm_head.decoder.bias']\n",
      "- This IS expected if you are initializing RobertaForSequenceClassification from the checkpoint of a model trained on another task or with another architecture (e.g. initializing a BertForSequenceClassification model from a BertForPreTraining model).\n",
      "- This IS NOT expected if you are initializing RobertaForSequenceClassification from the checkpoint of a model that you expect to be exactly identical (initializing a BertForSequenceClassification model from a BertForSequenceClassification model).\n",
      "Some weights of RobertaForSequenceClassification were not initialized from the model checkpoint at klue/roberta-large and are newly initialized: ['classifier.out_proj.weight', 'classifier.dense.bias', 'classifier.dense.weight', 'classifier.out_proj.bias']\n",
      "You should probably TRAIN this model on a down-stream task to be able to use it for predictions and inference.\n"
     ]
    },
    {
     "data": {
      "application/vnd.jupyter.widget-view+json": {
       "model_id": "2037a742a86247d891e00077f481ac8a",
       "version_major": 2,
       "version_minor": 0
      },
      "text/plain": [
       "  0%|          | 0/1 [00:00<?, ?it/s]"
      ]
     },
     "metadata": {},
     "output_type": "display_data"
    },
    {
     "name": "stderr",
     "output_type": "stream",
     "text": [
      "/var/folders/k1/dqklgtzs47vckvrkl74mxsxc0000gn/T/ipykernel_1008/3765010246.py:5: DeprecationWarning: Call to deprecated function get_sheet_by_name (Use wb[sheetname]).\n",
      "  load_ws = load_wb.get_sheet_by_name(keyword)\n"
     ]
    },
    {
     "name": "stdout",
     "output_type": "stream",
     "text": [
      "       index\n",
      "count    1.0\n",
      "mean     0.0\n",
      "std      NaN\n",
      "min      0.0\n",
      "25%      0.0\n",
      "50%      0.0\n",
      "75%      0.0\n",
      "max      0.0\n"
     ]
    },
    {
     "name": "stderr",
     "output_type": "stream",
     "text": [
      "Some weights of the model checkpoint at klue/roberta-large were not used when initializing RobertaForSequenceClassification: ['lm_head.dense.bias', 'lm_head.layer_norm.weight', 'lm_head.bias', 'lm_head.dense.weight', 'lm_head.decoder.weight', 'lm_head.layer_norm.bias', 'lm_head.decoder.bias']\n",
      "- This IS expected if you are initializing RobertaForSequenceClassification from the checkpoint of a model trained on another task or with another architecture (e.g. initializing a BertForSequenceClassification model from a BertForPreTraining model).\n",
      "- This IS NOT expected if you are initializing RobertaForSequenceClassification from the checkpoint of a model that you expect to be exactly identical (initializing a BertForSequenceClassification model from a BertForSequenceClassification model).\n",
      "Some weights of RobertaForSequenceClassification were not initialized from the model checkpoint at klue/roberta-large and are newly initialized: ['classifier.out_proj.weight', 'classifier.dense.bias', 'classifier.dense.weight', 'classifier.out_proj.bias']\n",
      "You should probably TRAIN this model on a down-stream task to be able to use it for predictions and inference.\n"
     ]
    },
    {
     "data": {
      "application/vnd.jupyter.widget-view+json": {
       "model_id": "8c581838b4344a018fccec697226b88a",
       "version_major": 2,
       "version_minor": 0
      },
      "text/plain": [
       "  0%|          | 0/1 [00:00<?, ?it/s]"
      ]
     },
     "metadata": {},
     "output_type": "display_data"
    },
    {
     "name": "stderr",
     "output_type": "stream",
     "text": [
      "/var/folders/k1/dqklgtzs47vckvrkl74mxsxc0000gn/T/ipykernel_1008/3765010246.py:5: DeprecationWarning: Call to deprecated function get_sheet_by_name (Use wb[sheetname]).\n",
      "  load_ws = load_wb.get_sheet_by_name(keyword)\n"
     ]
    },
    {
     "name": "stdout",
     "output_type": "stream",
     "text": [
      "           index\n",
      "count  21.000000\n",
      "mean   10.000000\n",
      "std     6.204837\n",
      "min     0.000000\n",
      "25%     5.000000\n",
      "50%    10.000000\n",
      "75%    15.000000\n",
      "max    20.000000\n"
     ]
    },
    {
     "name": "stderr",
     "output_type": "stream",
     "text": [
      "Some weights of the model checkpoint at klue/roberta-large were not used when initializing RobertaForSequenceClassification: ['lm_head.dense.bias', 'lm_head.layer_norm.weight', 'lm_head.bias', 'lm_head.dense.weight', 'lm_head.decoder.weight', 'lm_head.layer_norm.bias', 'lm_head.decoder.bias']\n",
      "- This IS expected if you are initializing RobertaForSequenceClassification from the checkpoint of a model trained on another task or with another architecture (e.g. initializing a BertForSequenceClassification model from a BertForPreTraining model).\n",
      "- This IS NOT expected if you are initializing RobertaForSequenceClassification from the checkpoint of a model that you expect to be exactly identical (initializing a BertForSequenceClassification model from a BertForSequenceClassification model).\n",
      "Some weights of RobertaForSequenceClassification were not initialized from the model checkpoint at klue/roberta-large and are newly initialized: ['classifier.out_proj.weight', 'classifier.dense.bias', 'classifier.dense.weight', 'classifier.out_proj.bias']\n",
      "You should probably TRAIN this model on a down-stream task to be able to use it for predictions and inference.\n"
     ]
    },
    {
     "data": {
      "application/vnd.jupyter.widget-view+json": {
       "model_id": "3bd9c7dd539e48f3b0c85c4a814e5a1b",
       "version_major": 2,
       "version_minor": 0
      },
      "text/plain": [
       "  0%|          | 0/1 [00:00<?, ?it/s]"
      ]
     },
     "metadata": {},
     "output_type": "display_data"
    },
    {
     "name": "stderr",
     "output_type": "stream",
     "text": [
      "/var/folders/k1/dqklgtzs47vckvrkl74mxsxc0000gn/T/ipykernel_1008/3765010246.py:5: DeprecationWarning: Call to deprecated function get_sheet_by_name (Use wb[sheetname]).\n",
      "  load_ws = load_wb.get_sheet_by_name(keyword)\n"
     ]
    },
    {
     "name": "stdout",
     "output_type": "stream",
     "text": [
      "           index\n",
      "count  69.000000\n",
      "mean   34.000000\n",
      "std    20.062403\n",
      "min     0.000000\n",
      "25%    17.000000\n",
      "50%    34.000000\n",
      "75%    51.000000\n",
      "max    68.000000\n"
     ]
    },
    {
     "name": "stderr",
     "output_type": "stream",
     "text": [
      "Some weights of the model checkpoint at klue/roberta-large were not used when initializing RobertaForSequenceClassification: ['lm_head.dense.bias', 'lm_head.layer_norm.weight', 'lm_head.bias', 'lm_head.dense.weight', 'lm_head.decoder.weight', 'lm_head.layer_norm.bias', 'lm_head.decoder.bias']\n",
      "- This IS expected if you are initializing RobertaForSequenceClassification from the checkpoint of a model trained on another task or with another architecture (e.g. initializing a BertForSequenceClassification model from a BertForPreTraining model).\n",
      "- This IS NOT expected if you are initializing RobertaForSequenceClassification from the checkpoint of a model that you expect to be exactly identical (initializing a BertForSequenceClassification model from a BertForSequenceClassification model).\n",
      "Some weights of RobertaForSequenceClassification were not initialized from the model checkpoint at klue/roberta-large and are newly initialized: ['classifier.out_proj.weight', 'classifier.dense.bias', 'classifier.dense.weight', 'classifier.out_proj.bias']\n",
      "You should probably TRAIN this model on a down-stream task to be able to use it for predictions and inference.\n"
     ]
    },
    {
     "data": {
      "application/vnd.jupyter.widget-view+json": {
       "model_id": "772fe70949ac4e79add5917dd0d0340c",
       "version_major": 2,
       "version_minor": 0
      },
      "text/plain": [
       "  0%|          | 0/1 [00:00<?, ?it/s]"
      ]
     },
     "metadata": {},
     "output_type": "display_data"
    },
    {
     "name": "stderr",
     "output_type": "stream",
     "text": [
      "/var/folders/k1/dqklgtzs47vckvrkl74mxsxc0000gn/T/ipykernel_1008/3765010246.py:5: DeprecationWarning: Call to deprecated function get_sheet_by_name (Use wb[sheetname]).\n",
      "  load_ws = load_wb.get_sheet_by_name(keyword)\n"
     ]
    },
    {
     "name": "stdout",
     "output_type": "stream",
     "text": [
      "       index\n",
      "count    1.0\n",
      "mean     0.0\n",
      "std      NaN\n",
      "min      0.0\n",
      "25%      0.0\n",
      "50%      0.0\n",
      "75%      0.0\n",
      "max      0.0\n"
     ]
    },
    {
     "name": "stderr",
     "output_type": "stream",
     "text": [
      "Some weights of the model checkpoint at klue/roberta-large were not used when initializing RobertaForSequenceClassification: ['lm_head.dense.bias', 'lm_head.layer_norm.weight', 'lm_head.bias', 'lm_head.dense.weight', 'lm_head.decoder.weight', 'lm_head.layer_norm.bias', 'lm_head.decoder.bias']\n",
      "- This IS expected if you are initializing RobertaForSequenceClassification from the checkpoint of a model trained on another task or with another architecture (e.g. initializing a BertForSequenceClassification model from a BertForPreTraining model).\n",
      "- This IS NOT expected if you are initializing RobertaForSequenceClassification from the checkpoint of a model that you expect to be exactly identical (initializing a BertForSequenceClassification model from a BertForSequenceClassification model).\n",
      "Some weights of RobertaForSequenceClassification were not initialized from the model checkpoint at klue/roberta-large and are newly initialized: ['classifier.out_proj.weight', 'classifier.dense.bias', 'classifier.dense.weight', 'classifier.out_proj.bias']\n",
      "You should probably TRAIN this model on a down-stream task to be able to use it for predictions and inference.\n"
     ]
    },
    {
     "data": {
      "application/vnd.jupyter.widget-view+json": {
       "model_id": "b4f81c71b8e54e758bbd1cc7bd0b28e0",
       "version_major": 2,
       "version_minor": 0
      },
      "text/plain": [
       "  0%|          | 0/1 [00:00<?, ?it/s]"
      ]
     },
     "metadata": {},
     "output_type": "display_data"
    },
    {
     "name": "stderr",
     "output_type": "stream",
     "text": [
      "/var/folders/k1/dqklgtzs47vckvrkl74mxsxc0000gn/T/ipykernel_1008/3765010246.py:5: DeprecationWarning: Call to deprecated function get_sheet_by_name (Use wb[sheetname]).\n",
      "  load_ws = load_wb.get_sheet_by_name(keyword)\n"
     ]
    },
    {
     "name": "stdout",
     "output_type": "stream",
     "text": [
      "          index\n",
      "count  2.000000\n",
      "mean   0.500000\n",
      "std    0.707107\n",
      "min    0.000000\n",
      "25%    0.250000\n",
      "50%    0.500000\n",
      "75%    0.750000\n",
      "max    1.000000\n"
     ]
    },
    {
     "name": "stderr",
     "output_type": "stream",
     "text": [
      "Some weights of the model checkpoint at klue/roberta-large were not used when initializing RobertaForSequenceClassification: ['lm_head.dense.bias', 'lm_head.layer_norm.weight', 'lm_head.bias', 'lm_head.dense.weight', 'lm_head.decoder.weight', 'lm_head.layer_norm.bias', 'lm_head.decoder.bias']\n",
      "- This IS expected if you are initializing RobertaForSequenceClassification from the checkpoint of a model trained on another task or with another architecture (e.g. initializing a BertForSequenceClassification model from a BertForPreTraining model).\n",
      "- This IS NOT expected if you are initializing RobertaForSequenceClassification from the checkpoint of a model that you expect to be exactly identical (initializing a BertForSequenceClassification model from a BertForSequenceClassification model).\n",
      "Some weights of RobertaForSequenceClassification were not initialized from the model checkpoint at klue/roberta-large and are newly initialized: ['classifier.out_proj.weight', 'classifier.dense.bias', 'classifier.dense.weight', 'classifier.out_proj.bias']\n",
      "You should probably TRAIN this model on a down-stream task to be able to use it for predictions and inference.\n"
     ]
    },
    {
     "data": {
      "application/vnd.jupyter.widget-view+json": {
       "model_id": "010c76c93cac4b17ac376ef6f5a11013",
       "version_major": 2,
       "version_minor": 0
      },
      "text/plain": [
       "  0%|          | 0/1 [00:00<?, ?it/s]"
      ]
     },
     "metadata": {},
     "output_type": "display_data"
    },
    {
     "name": "stderr",
     "output_type": "stream",
     "text": [
      "/var/folders/k1/dqklgtzs47vckvrkl74mxsxc0000gn/T/ipykernel_1008/3765010246.py:5: DeprecationWarning: Call to deprecated function get_sheet_by_name (Use wb[sheetname]).\n",
      "  load_ws = load_wb.get_sheet_by_name(keyword)\n"
     ]
    },
    {
     "name": "stdout",
     "output_type": "stream",
     "text": [
      "          index\n",
      "count  10.00000\n",
      "mean    4.50000\n",
      "std     3.02765\n",
      "min     0.00000\n",
      "25%     2.25000\n",
      "50%     4.50000\n",
      "75%     6.75000\n",
      "max     9.00000\n"
     ]
    },
    {
     "name": "stderr",
     "output_type": "stream",
     "text": [
      "Some weights of the model checkpoint at klue/roberta-large were not used when initializing RobertaForSequenceClassification: ['lm_head.dense.bias', 'lm_head.layer_norm.weight', 'lm_head.bias', 'lm_head.dense.weight', 'lm_head.decoder.weight', 'lm_head.layer_norm.bias', 'lm_head.decoder.bias']\n",
      "- This IS expected if you are initializing RobertaForSequenceClassification from the checkpoint of a model trained on another task or with another architecture (e.g. initializing a BertForSequenceClassification model from a BertForPreTraining model).\n",
      "- This IS NOT expected if you are initializing RobertaForSequenceClassification from the checkpoint of a model that you expect to be exactly identical (initializing a BertForSequenceClassification model from a BertForSequenceClassification model).\n",
      "Some weights of RobertaForSequenceClassification were not initialized from the model checkpoint at klue/roberta-large and are newly initialized: ['classifier.out_proj.weight', 'classifier.dense.bias', 'classifier.dense.weight', 'classifier.out_proj.bias']\n",
      "You should probably TRAIN this model on a down-stream task to be able to use it for predictions and inference.\n"
     ]
    },
    {
     "data": {
      "application/vnd.jupyter.widget-view+json": {
       "model_id": "911b3e5de6cf42f794cbfc4fb604e977",
       "version_major": 2,
       "version_minor": 0
      },
      "text/plain": [
       "  0%|          | 0/1 [00:00<?, ?it/s]"
      ]
     },
     "metadata": {},
     "output_type": "display_data"
    },
    {
     "name": "stderr",
     "output_type": "stream",
     "text": [
      "/var/folders/k1/dqklgtzs47vckvrkl74mxsxc0000gn/T/ipykernel_1008/3765010246.py:5: DeprecationWarning: Call to deprecated function get_sheet_by_name (Use wb[sheetname]).\n",
      "  load_ws = load_wb.get_sheet_by_name(keyword)\n"
     ]
    },
    {
     "name": "stdout",
     "output_type": "stream",
     "text": [
      "          index\n",
      "count  2.000000\n",
      "mean   0.500000\n",
      "std    0.707107\n",
      "min    0.000000\n",
      "25%    0.250000\n",
      "50%    0.500000\n",
      "75%    0.750000\n",
      "max    1.000000\n"
     ]
    },
    {
     "name": "stderr",
     "output_type": "stream",
     "text": [
      "Some weights of the model checkpoint at klue/roberta-large were not used when initializing RobertaForSequenceClassification: ['lm_head.dense.bias', 'lm_head.layer_norm.weight', 'lm_head.bias', 'lm_head.dense.weight', 'lm_head.decoder.weight', 'lm_head.layer_norm.bias', 'lm_head.decoder.bias']\n",
      "- This IS expected if you are initializing RobertaForSequenceClassification from the checkpoint of a model trained on another task or with another architecture (e.g. initializing a BertForSequenceClassification model from a BertForPreTraining model).\n",
      "- This IS NOT expected if you are initializing RobertaForSequenceClassification from the checkpoint of a model that you expect to be exactly identical (initializing a BertForSequenceClassification model from a BertForSequenceClassification model).\n",
      "Some weights of RobertaForSequenceClassification were not initialized from the model checkpoint at klue/roberta-large and are newly initialized: ['classifier.out_proj.weight', 'classifier.dense.bias', 'classifier.dense.weight', 'classifier.out_proj.bias']\n",
      "You should probably TRAIN this model on a down-stream task to be able to use it for predictions and inference.\n"
     ]
    },
    {
     "data": {
      "application/vnd.jupyter.widget-view+json": {
       "model_id": "56b167ac2f3748109c2baf1601f0a1be",
       "version_major": 2,
       "version_minor": 0
      },
      "text/plain": [
       "  0%|          | 0/1 [00:00<?, ?it/s]"
      ]
     },
     "metadata": {},
     "output_type": "display_data"
    },
    {
     "name": "stderr",
     "output_type": "stream",
     "text": [
      "/var/folders/k1/dqklgtzs47vckvrkl74mxsxc0000gn/T/ipykernel_1008/3765010246.py:5: DeprecationWarning: Call to deprecated function get_sheet_by_name (Use wb[sheetname]).\n",
      "  load_ws = load_wb.get_sheet_by_name(keyword)\n"
     ]
    },
    {
     "name": "stdout",
     "output_type": "stream",
     "text": [
      "           index\n",
      "count  15.000000\n",
      "mean    7.000000\n",
      "std     4.472136\n",
      "min     0.000000\n",
      "25%     3.500000\n",
      "50%     7.000000\n",
      "75%    10.500000\n",
      "max    14.000000\n"
     ]
    },
    {
     "name": "stderr",
     "output_type": "stream",
     "text": [
      "Some weights of the model checkpoint at klue/roberta-large were not used when initializing RobertaForSequenceClassification: ['lm_head.dense.bias', 'lm_head.layer_norm.weight', 'lm_head.bias', 'lm_head.dense.weight', 'lm_head.decoder.weight', 'lm_head.layer_norm.bias', 'lm_head.decoder.bias']\n",
      "- This IS expected if you are initializing RobertaForSequenceClassification from the checkpoint of a model trained on another task or with another architecture (e.g. initializing a BertForSequenceClassification model from a BertForPreTraining model).\n",
      "- This IS NOT expected if you are initializing RobertaForSequenceClassification from the checkpoint of a model that you expect to be exactly identical (initializing a BertForSequenceClassification model from a BertForSequenceClassification model).\n",
      "Some weights of RobertaForSequenceClassification were not initialized from the model checkpoint at klue/roberta-large and are newly initialized: ['classifier.out_proj.weight', 'classifier.dense.bias', 'classifier.dense.weight', 'classifier.out_proj.bias']\n",
      "You should probably TRAIN this model on a down-stream task to be able to use it for predictions and inference.\n"
     ]
    },
    {
     "data": {
      "application/vnd.jupyter.widget-view+json": {
       "model_id": "a802cf2e6a544bb28db5eb22c2e4c904",
       "version_major": 2,
       "version_minor": 0
      },
      "text/plain": [
       "  0%|          | 0/1 [00:00<?, ?it/s]"
      ]
     },
     "metadata": {},
     "output_type": "display_data"
    },
    {
     "name": "stderr",
     "output_type": "stream",
     "text": [
      "/var/folders/k1/dqklgtzs47vckvrkl74mxsxc0000gn/T/ipykernel_1008/3765010246.py:5: DeprecationWarning: Call to deprecated function get_sheet_by_name (Use wb[sheetname]).\n",
      "  load_ws = load_wb.get_sheet_by_name(keyword)\n"
     ]
    },
    {
     "name": "stdout",
     "output_type": "stream",
     "text": [
      "          index\n",
      "count  20.00000\n",
      "mean    9.50000\n",
      "std     5.91608\n",
      "min     0.00000\n",
      "25%     4.75000\n",
      "50%     9.50000\n",
      "75%    14.25000\n",
      "max    19.00000\n"
     ]
    },
    {
     "name": "stderr",
     "output_type": "stream",
     "text": [
      "Some weights of the model checkpoint at klue/roberta-large were not used when initializing RobertaForSequenceClassification: ['lm_head.dense.bias', 'lm_head.layer_norm.weight', 'lm_head.bias', 'lm_head.dense.weight', 'lm_head.decoder.weight', 'lm_head.layer_norm.bias', 'lm_head.decoder.bias']\n",
      "- This IS expected if you are initializing RobertaForSequenceClassification from the checkpoint of a model trained on another task or with another architecture (e.g. initializing a BertForSequenceClassification model from a BertForPreTraining model).\n",
      "- This IS NOT expected if you are initializing RobertaForSequenceClassification from the checkpoint of a model that you expect to be exactly identical (initializing a BertForSequenceClassification model from a BertForSequenceClassification model).\n",
      "Some weights of RobertaForSequenceClassification were not initialized from the model checkpoint at klue/roberta-large and are newly initialized: ['classifier.out_proj.weight', 'classifier.dense.bias', 'classifier.dense.weight', 'classifier.out_proj.bias']\n",
      "You should probably TRAIN this model on a down-stream task to be able to use it for predictions and inference.\n"
     ]
    },
    {
     "data": {
      "application/vnd.jupyter.widget-view+json": {
       "model_id": "6c70fe4beada4417a312c6ef886d37be",
       "version_major": 2,
       "version_minor": 0
      },
      "text/plain": [
       "  0%|          | 0/1 [00:00<?, ?it/s]"
      ]
     },
     "metadata": {},
     "output_type": "display_data"
    },
    {
     "name": "stderr",
     "output_type": "stream",
     "text": [
      "/var/folders/k1/dqklgtzs47vckvrkl74mxsxc0000gn/T/ipykernel_1008/3765010246.py:5: DeprecationWarning: Call to deprecated function get_sheet_by_name (Use wb[sheetname]).\n",
      "  load_ws = load_wb.get_sheet_by_name(keyword)\n"
     ]
    },
    {
     "name": "stdout",
     "output_type": "stream",
     "text": [
      "         index\n",
      "count  8.00000\n",
      "mean   3.50000\n",
      "std    2.44949\n",
      "min    0.00000\n",
      "25%    1.75000\n",
      "50%    3.50000\n",
      "75%    5.25000\n",
      "max    7.00000\n"
     ]
    },
    {
     "name": "stderr",
     "output_type": "stream",
     "text": [
      "Some weights of the model checkpoint at klue/roberta-large were not used when initializing RobertaForSequenceClassification: ['lm_head.dense.bias', 'lm_head.layer_norm.weight', 'lm_head.bias', 'lm_head.dense.weight', 'lm_head.decoder.weight', 'lm_head.layer_norm.bias', 'lm_head.decoder.bias']\n",
      "- This IS expected if you are initializing RobertaForSequenceClassification from the checkpoint of a model trained on another task or with another architecture (e.g. initializing a BertForSequenceClassification model from a BertForPreTraining model).\n",
      "- This IS NOT expected if you are initializing RobertaForSequenceClassification from the checkpoint of a model that you expect to be exactly identical (initializing a BertForSequenceClassification model from a BertForSequenceClassification model).\n",
      "Some weights of RobertaForSequenceClassification were not initialized from the model checkpoint at klue/roberta-large and are newly initialized: ['classifier.out_proj.weight', 'classifier.dense.bias', 'classifier.dense.weight', 'classifier.out_proj.bias']\n",
      "You should probably TRAIN this model on a down-stream task to be able to use it for predictions and inference.\n"
     ]
    },
    {
     "data": {
      "application/vnd.jupyter.widget-view+json": {
       "model_id": "06b10a266d1a434182371e1ef4c04423",
       "version_major": 2,
       "version_minor": 0
      },
      "text/plain": [
       "  0%|          | 0/1 [00:00<?, ?it/s]"
      ]
     },
     "metadata": {},
     "output_type": "display_data"
    },
    {
     "name": "stderr",
     "output_type": "stream",
     "text": [
      "/var/folders/k1/dqklgtzs47vckvrkl74mxsxc0000gn/T/ipykernel_1008/3765010246.py:5: DeprecationWarning: Call to deprecated function get_sheet_by_name (Use wb[sheetname]).\n",
      "  load_ws = load_wb.get_sheet_by_name(keyword)\n"
     ]
    },
    {
     "name": "stdout",
     "output_type": "stream",
     "text": [
      "       index\n",
      "count    1.0\n",
      "mean     0.0\n",
      "std      NaN\n",
      "min      0.0\n",
      "25%      0.0\n",
      "50%      0.0\n",
      "75%      0.0\n",
      "max      0.0\n"
     ]
    },
    {
     "name": "stderr",
     "output_type": "stream",
     "text": [
      "Some weights of the model checkpoint at klue/roberta-large were not used when initializing RobertaForSequenceClassification: ['lm_head.dense.bias', 'lm_head.layer_norm.weight', 'lm_head.bias', 'lm_head.dense.weight', 'lm_head.decoder.weight', 'lm_head.layer_norm.bias', 'lm_head.decoder.bias']\n",
      "- This IS expected if you are initializing RobertaForSequenceClassification from the checkpoint of a model trained on another task or with another architecture (e.g. initializing a BertForSequenceClassification model from a BertForPreTraining model).\n",
      "- This IS NOT expected if you are initializing RobertaForSequenceClassification from the checkpoint of a model that you expect to be exactly identical (initializing a BertForSequenceClassification model from a BertForSequenceClassification model).\n",
      "Some weights of RobertaForSequenceClassification were not initialized from the model checkpoint at klue/roberta-large and are newly initialized: ['classifier.out_proj.weight', 'classifier.dense.bias', 'classifier.dense.weight', 'classifier.out_proj.bias']\n",
      "You should probably TRAIN this model on a down-stream task to be able to use it for predictions and inference.\n"
     ]
    },
    {
     "data": {
      "application/vnd.jupyter.widget-view+json": {
       "model_id": "886fa78737b74d84b22a345b724ad16f",
       "version_major": 2,
       "version_minor": 0
      },
      "text/plain": [
       "  0%|          | 0/1 [00:00<?, ?it/s]"
      ]
     },
     "metadata": {},
     "output_type": "display_data"
    },
    {
     "name": "stderr",
     "output_type": "stream",
     "text": [
      "/var/folders/k1/dqklgtzs47vckvrkl74mxsxc0000gn/T/ipykernel_1008/3765010246.py:5: DeprecationWarning: Call to deprecated function get_sheet_by_name (Use wb[sheetname]).\n",
      "  load_ws = load_wb.get_sheet_by_name(keyword)\n"
     ]
    },
    {
     "name": "stdout",
     "output_type": "stream",
     "text": [
      "          index\n",
      "count  10.00000\n",
      "mean    4.50000\n",
      "std     3.02765\n",
      "min     0.00000\n",
      "25%     2.25000\n",
      "50%     4.50000\n",
      "75%     6.75000\n",
      "max     9.00000\n"
     ]
    },
    {
     "name": "stderr",
     "output_type": "stream",
     "text": [
      "Some weights of the model checkpoint at klue/roberta-large were not used when initializing RobertaForSequenceClassification: ['lm_head.dense.bias', 'lm_head.layer_norm.weight', 'lm_head.bias', 'lm_head.dense.weight', 'lm_head.decoder.weight', 'lm_head.layer_norm.bias', 'lm_head.decoder.bias']\n",
      "- This IS expected if you are initializing RobertaForSequenceClassification from the checkpoint of a model trained on another task or with another architecture (e.g. initializing a BertForSequenceClassification model from a BertForPreTraining model).\n",
      "- This IS NOT expected if you are initializing RobertaForSequenceClassification from the checkpoint of a model that you expect to be exactly identical (initializing a BertForSequenceClassification model from a BertForSequenceClassification model).\n",
      "Some weights of RobertaForSequenceClassification were not initialized from the model checkpoint at klue/roberta-large and are newly initialized: ['classifier.out_proj.weight', 'classifier.dense.bias', 'classifier.dense.weight', 'classifier.out_proj.bias']\n",
      "You should probably TRAIN this model on a down-stream task to be able to use it for predictions and inference.\n"
     ]
    },
    {
     "data": {
      "application/vnd.jupyter.widget-view+json": {
       "model_id": "38848d6730e14267b2c8d99f5bfc0196",
       "version_major": 2,
       "version_minor": 0
      },
      "text/plain": [
       "  0%|          | 0/1 [00:00<?, ?it/s]"
      ]
     },
     "metadata": {},
     "output_type": "display_data"
    },
    {
     "name": "stderr",
     "output_type": "stream",
     "text": [
      "/var/folders/k1/dqklgtzs47vckvrkl74mxsxc0000gn/T/ipykernel_1008/3765010246.py:5: DeprecationWarning: Call to deprecated function get_sheet_by_name (Use wb[sheetname]).\n",
      "  load_ws = load_wb.get_sheet_by_name(keyword)\n"
     ]
    },
    {
     "name": "stdout",
     "output_type": "stream",
     "text": [
      "          index\n",
      "count  10.00000\n",
      "mean    4.50000\n",
      "std     3.02765\n",
      "min     0.00000\n",
      "25%     2.25000\n",
      "50%     4.50000\n",
      "75%     6.75000\n",
      "max     9.00000\n"
     ]
    },
    {
     "name": "stderr",
     "output_type": "stream",
     "text": [
      "Some weights of the model checkpoint at klue/roberta-large were not used when initializing RobertaForSequenceClassification: ['lm_head.dense.bias', 'lm_head.layer_norm.weight', 'lm_head.bias', 'lm_head.dense.weight', 'lm_head.decoder.weight', 'lm_head.layer_norm.bias', 'lm_head.decoder.bias']\n",
      "- This IS expected if you are initializing RobertaForSequenceClassification from the checkpoint of a model trained on another task or with another architecture (e.g. initializing a BertForSequenceClassification model from a BertForPreTraining model).\n",
      "- This IS NOT expected if you are initializing RobertaForSequenceClassification from the checkpoint of a model that you expect to be exactly identical (initializing a BertForSequenceClassification model from a BertForSequenceClassification model).\n",
      "Some weights of RobertaForSequenceClassification were not initialized from the model checkpoint at klue/roberta-large and are newly initialized: ['classifier.out_proj.weight', 'classifier.dense.bias', 'classifier.dense.weight', 'classifier.out_proj.bias']\n",
      "You should probably TRAIN this model on a down-stream task to be able to use it for predictions and inference.\n"
     ]
    },
    {
     "data": {
      "application/vnd.jupyter.widget-view+json": {
       "model_id": "48dab3b92bda4c0f973a3bf98aeced39",
       "version_major": 2,
       "version_minor": 0
      },
      "text/plain": [
       "  0%|          | 0/1 [00:00<?, ?it/s]"
      ]
     },
     "metadata": {},
     "output_type": "display_data"
    },
    {
     "name": "stderr",
     "output_type": "stream",
     "text": [
      "/var/folders/k1/dqklgtzs47vckvrkl74mxsxc0000gn/T/ipykernel_1008/3765010246.py:5: DeprecationWarning: Call to deprecated function get_sheet_by_name (Use wb[sheetname]).\n",
      "  load_ws = load_wb.get_sheet_by_name(keyword)\n"
     ]
    },
    {
     "name": "stdout",
     "output_type": "stream",
     "text": [
      "          index\n",
      "count  4.000000\n",
      "mean   1.500000\n",
      "std    1.290994\n",
      "min    0.000000\n",
      "25%    0.750000\n",
      "50%    1.500000\n",
      "75%    2.250000\n",
      "max    3.000000\n"
     ]
    },
    {
     "name": "stderr",
     "output_type": "stream",
     "text": [
      "Some weights of the model checkpoint at klue/roberta-large were not used when initializing RobertaForSequenceClassification: ['lm_head.dense.bias', 'lm_head.layer_norm.weight', 'lm_head.bias', 'lm_head.dense.weight', 'lm_head.decoder.weight', 'lm_head.layer_norm.bias', 'lm_head.decoder.bias']\n",
      "- This IS expected if you are initializing RobertaForSequenceClassification from the checkpoint of a model trained on another task or with another architecture (e.g. initializing a BertForSequenceClassification model from a BertForPreTraining model).\n",
      "- This IS NOT expected if you are initializing RobertaForSequenceClassification from the checkpoint of a model that you expect to be exactly identical (initializing a BertForSequenceClassification model from a BertForSequenceClassification model).\n",
      "Some weights of RobertaForSequenceClassification were not initialized from the model checkpoint at klue/roberta-large and are newly initialized: ['classifier.out_proj.weight', 'classifier.dense.bias', 'classifier.dense.weight', 'classifier.out_proj.bias']\n",
      "You should probably TRAIN this model on a down-stream task to be able to use it for predictions and inference.\n"
     ]
    },
    {
     "data": {
      "application/vnd.jupyter.widget-view+json": {
       "model_id": "d79d221a3b214440ac906b0bb69d1ed8",
       "version_major": 2,
       "version_minor": 0
      },
      "text/plain": [
       "  0%|          | 0/1 [00:00<?, ?it/s]"
      ]
     },
     "metadata": {},
     "output_type": "display_data"
    },
    {
     "name": "stderr",
     "output_type": "stream",
     "text": [
      "/var/folders/k1/dqklgtzs47vckvrkl74mxsxc0000gn/T/ipykernel_1008/3765010246.py:5: DeprecationWarning: Call to deprecated function get_sheet_by_name (Use wb[sheetname]).\n",
      "  load_ws = load_wb.get_sheet_by_name(keyword)\n"
     ]
    },
    {
     "name": "stdout",
     "output_type": "stream",
     "text": [
      "           index\n",
      "count  30.000000\n",
      "mean   14.500000\n",
      "std     8.803408\n",
      "min     0.000000\n",
      "25%     7.250000\n",
      "50%    14.500000\n",
      "75%    21.750000\n",
      "max    29.000000\n"
     ]
    },
    {
     "name": "stderr",
     "output_type": "stream",
     "text": [
      "Some weights of the model checkpoint at klue/roberta-large were not used when initializing RobertaForSequenceClassification: ['lm_head.dense.bias', 'lm_head.layer_norm.weight', 'lm_head.bias', 'lm_head.dense.weight', 'lm_head.decoder.weight', 'lm_head.layer_norm.bias', 'lm_head.decoder.bias']\n",
      "- This IS expected if you are initializing RobertaForSequenceClassification from the checkpoint of a model trained on another task or with another architecture (e.g. initializing a BertForSequenceClassification model from a BertForPreTraining model).\n",
      "- This IS NOT expected if you are initializing RobertaForSequenceClassification from the checkpoint of a model that you expect to be exactly identical (initializing a BertForSequenceClassification model from a BertForSequenceClassification model).\n",
      "Some weights of RobertaForSequenceClassification were not initialized from the model checkpoint at klue/roberta-large and are newly initialized: ['classifier.out_proj.weight', 'classifier.dense.bias', 'classifier.dense.weight', 'classifier.out_proj.bias']\n",
      "You should probably TRAIN this model on a down-stream task to be able to use it for predictions and inference.\n"
     ]
    },
    {
     "data": {
      "application/vnd.jupyter.widget-view+json": {
       "model_id": "de80036e145649c4b21a35c8a1cf97a3",
       "version_major": 2,
       "version_minor": 0
      },
      "text/plain": [
       "  0%|          | 0/1 [00:00<?, ?it/s]"
      ]
     },
     "metadata": {},
     "output_type": "display_data"
    },
    {
     "name": "stderr",
     "output_type": "stream",
     "text": [
      "/var/folders/k1/dqklgtzs47vckvrkl74mxsxc0000gn/T/ipykernel_1008/3765010246.py:5: DeprecationWarning: Call to deprecated function get_sheet_by_name (Use wb[sheetname]).\n",
      "  load_ws = load_wb.get_sheet_by_name(keyword)\n"
     ]
    },
    {
     "name": "stdout",
     "output_type": "stream",
     "text": [
      "          index\n",
      "count  6.000000\n",
      "mean   2.500000\n",
      "std    1.870829\n",
      "min    0.000000\n",
      "25%    1.250000\n",
      "50%    2.500000\n",
      "75%    3.750000\n",
      "max    5.000000\n"
     ]
    },
    {
     "name": "stderr",
     "output_type": "stream",
     "text": [
      "Some weights of the model checkpoint at klue/roberta-large were not used when initializing RobertaForSequenceClassification: ['lm_head.dense.bias', 'lm_head.layer_norm.weight', 'lm_head.bias', 'lm_head.dense.weight', 'lm_head.decoder.weight', 'lm_head.layer_norm.bias', 'lm_head.decoder.bias']\n",
      "- This IS expected if you are initializing RobertaForSequenceClassification from the checkpoint of a model trained on another task or with another architecture (e.g. initializing a BertForSequenceClassification model from a BertForPreTraining model).\n",
      "- This IS NOT expected if you are initializing RobertaForSequenceClassification from the checkpoint of a model that you expect to be exactly identical (initializing a BertForSequenceClassification model from a BertForSequenceClassification model).\n",
      "Some weights of RobertaForSequenceClassification were not initialized from the model checkpoint at klue/roberta-large and are newly initialized: ['classifier.out_proj.weight', 'classifier.dense.bias', 'classifier.dense.weight', 'classifier.out_proj.bias']\n",
      "You should probably TRAIN this model on a down-stream task to be able to use it for predictions and inference.\n"
     ]
    },
    {
     "data": {
      "application/vnd.jupyter.widget-view+json": {
       "model_id": "95445680a35647918ccc0c0f2e970a9c",
       "version_major": 2,
       "version_minor": 0
      },
      "text/plain": [
       "  0%|          | 0/1 [00:00<?, ?it/s]"
      ]
     },
     "metadata": {},
     "output_type": "display_data"
    },
    {
     "name": "stderr",
     "output_type": "stream",
     "text": [
      "/var/folders/k1/dqklgtzs47vckvrkl74mxsxc0000gn/T/ipykernel_1008/3765010246.py:5: DeprecationWarning: Call to deprecated function get_sheet_by_name (Use wb[sheetname]).\n",
      "  load_ws = load_wb.get_sheet_by_name(keyword)\n"
     ]
    },
    {
     "name": "stdout",
     "output_type": "stream",
     "text": [
      "          index\n",
      "count  50.00000\n",
      "mean   24.50000\n",
      "std    14.57738\n",
      "min     0.00000\n",
      "25%    12.25000\n",
      "50%    24.50000\n",
      "75%    36.75000\n",
      "max    49.00000\n"
     ]
    },
    {
     "name": "stderr",
     "output_type": "stream",
     "text": [
      "Some weights of the model checkpoint at klue/roberta-large were not used when initializing RobertaForSequenceClassification: ['lm_head.dense.bias', 'lm_head.layer_norm.weight', 'lm_head.bias', 'lm_head.dense.weight', 'lm_head.decoder.weight', 'lm_head.layer_norm.bias', 'lm_head.decoder.bias']\n",
      "- This IS expected if you are initializing RobertaForSequenceClassification from the checkpoint of a model trained on another task or with another architecture (e.g. initializing a BertForSequenceClassification model from a BertForPreTraining model).\n",
      "- This IS NOT expected if you are initializing RobertaForSequenceClassification from the checkpoint of a model that you expect to be exactly identical (initializing a BertForSequenceClassification model from a BertForSequenceClassification model).\n",
      "Some weights of RobertaForSequenceClassification were not initialized from the model checkpoint at klue/roberta-large and are newly initialized: ['classifier.out_proj.weight', 'classifier.dense.bias', 'classifier.dense.weight', 'classifier.out_proj.bias']\n",
      "You should probably TRAIN this model on a down-stream task to be able to use it for predictions and inference.\n"
     ]
    },
    {
     "data": {
      "application/vnd.jupyter.widget-view+json": {
       "model_id": "e0ba4eec71f345eb9a5529f3c45347e8",
       "version_major": 2,
       "version_minor": 0
      },
      "text/plain": [
       "  0%|          | 0/1 [00:00<?, ?it/s]"
      ]
     },
     "metadata": {},
     "output_type": "display_data"
    },
    {
     "name": "stderr",
     "output_type": "stream",
     "text": [
      "/var/folders/k1/dqklgtzs47vckvrkl74mxsxc0000gn/T/ipykernel_1008/3765010246.py:5: DeprecationWarning: Call to deprecated function get_sheet_by_name (Use wb[sheetname]).\n",
      "  load_ws = load_wb.get_sheet_by_name(keyword)\n"
     ]
    },
    {
     "name": "stdout",
     "output_type": "stream",
     "text": [
      "       index\n",
      "count    1.0\n",
      "mean     0.0\n",
      "std      NaN\n",
      "min      0.0\n",
      "25%      0.0\n",
      "50%      0.0\n",
      "75%      0.0\n",
      "max      0.0\n"
     ]
    },
    {
     "name": "stderr",
     "output_type": "stream",
     "text": [
      "Some weights of the model checkpoint at klue/roberta-large were not used when initializing RobertaForSequenceClassification: ['lm_head.dense.bias', 'lm_head.layer_norm.weight', 'lm_head.bias', 'lm_head.dense.weight', 'lm_head.decoder.weight', 'lm_head.layer_norm.bias', 'lm_head.decoder.bias']\n",
      "- This IS expected if you are initializing RobertaForSequenceClassification from the checkpoint of a model trained on another task or with another architecture (e.g. initializing a BertForSequenceClassification model from a BertForPreTraining model).\n",
      "- This IS NOT expected if you are initializing RobertaForSequenceClassification from the checkpoint of a model that you expect to be exactly identical (initializing a BertForSequenceClassification model from a BertForSequenceClassification model).\n",
      "Some weights of RobertaForSequenceClassification were not initialized from the model checkpoint at klue/roberta-large and are newly initialized: ['classifier.out_proj.weight', 'classifier.dense.bias', 'classifier.dense.weight', 'classifier.out_proj.bias']\n",
      "You should probably TRAIN this model on a down-stream task to be able to use it for predictions and inference.\n"
     ]
    },
    {
     "data": {
      "application/vnd.jupyter.widget-view+json": {
       "model_id": "b84c42950eae40e99a15fdde9432f98e",
       "version_major": 2,
       "version_minor": 0
      },
      "text/plain": [
       "  0%|          | 0/1 [00:00<?, ?it/s]"
      ]
     },
     "metadata": {},
     "output_type": "display_data"
    },
    {
     "name": "stderr",
     "output_type": "stream",
     "text": [
      "/var/folders/k1/dqklgtzs47vckvrkl74mxsxc0000gn/T/ipykernel_1008/3765010246.py:5: DeprecationWarning: Call to deprecated function get_sheet_by_name (Use wb[sheetname]).\n",
      "  load_ws = load_wb.get_sheet_by_name(keyword)\n"
     ]
    },
    {
     "name": "stdout",
     "output_type": "stream",
     "text": [
      "       index\n",
      "count    1.0\n",
      "mean     0.0\n",
      "std      NaN\n",
      "min      0.0\n",
      "25%      0.0\n",
      "50%      0.0\n",
      "75%      0.0\n",
      "max      0.0\n"
     ]
    },
    {
     "name": "stderr",
     "output_type": "stream",
     "text": [
      "Some weights of the model checkpoint at klue/roberta-large were not used when initializing RobertaForSequenceClassification: ['lm_head.dense.bias', 'lm_head.layer_norm.weight', 'lm_head.bias', 'lm_head.dense.weight', 'lm_head.decoder.weight', 'lm_head.layer_norm.bias', 'lm_head.decoder.bias']\n",
      "- This IS expected if you are initializing RobertaForSequenceClassification from the checkpoint of a model trained on another task or with another architecture (e.g. initializing a BertForSequenceClassification model from a BertForPreTraining model).\n",
      "- This IS NOT expected if you are initializing RobertaForSequenceClassification from the checkpoint of a model that you expect to be exactly identical (initializing a BertForSequenceClassification model from a BertForSequenceClassification model).\n",
      "Some weights of RobertaForSequenceClassification were not initialized from the model checkpoint at klue/roberta-large and are newly initialized: ['classifier.out_proj.weight', 'classifier.dense.bias', 'classifier.dense.weight', 'classifier.out_proj.bias']\n",
      "You should probably TRAIN this model on a down-stream task to be able to use it for predictions and inference.\n"
     ]
    },
    {
     "data": {
      "application/vnd.jupyter.widget-view+json": {
       "model_id": "7799ef52253a4ef3aa0af293a71ff91d",
       "version_major": 2,
       "version_minor": 0
      },
      "text/plain": [
       "  0%|          | 0/1 [00:00<?, ?it/s]"
      ]
     },
     "metadata": {},
     "output_type": "display_data"
    },
    {
     "name": "stderr",
     "output_type": "stream",
     "text": [
      "/var/folders/k1/dqklgtzs47vckvrkl74mxsxc0000gn/T/ipykernel_1008/3765010246.py:5: DeprecationWarning: Call to deprecated function get_sheet_by_name (Use wb[sheetname]).\n",
      "  load_ws = load_wb.get_sheet_by_name(keyword)\n"
     ]
    },
    {
     "name": "stdout",
     "output_type": "stream",
     "text": [
      "          index\n",
      "count  2.000000\n",
      "mean   0.500000\n",
      "std    0.707107\n",
      "min    0.000000\n",
      "25%    0.250000\n",
      "50%    0.500000\n",
      "75%    0.750000\n",
      "max    1.000000\n"
     ]
    },
    {
     "name": "stderr",
     "output_type": "stream",
     "text": [
      "Some weights of the model checkpoint at klue/roberta-large were not used when initializing RobertaForSequenceClassification: ['lm_head.dense.bias', 'lm_head.layer_norm.weight', 'lm_head.bias', 'lm_head.dense.weight', 'lm_head.decoder.weight', 'lm_head.layer_norm.bias', 'lm_head.decoder.bias']\n",
      "- This IS expected if you are initializing RobertaForSequenceClassification from the checkpoint of a model trained on another task or with another architecture (e.g. initializing a BertForSequenceClassification model from a BertForPreTraining model).\n",
      "- This IS NOT expected if you are initializing RobertaForSequenceClassification from the checkpoint of a model that you expect to be exactly identical (initializing a BertForSequenceClassification model from a BertForSequenceClassification model).\n",
      "Some weights of RobertaForSequenceClassification were not initialized from the model checkpoint at klue/roberta-large and are newly initialized: ['classifier.out_proj.weight', 'classifier.dense.bias', 'classifier.dense.weight', 'classifier.out_proj.bias']\n",
      "You should probably TRAIN this model on a down-stream task to be able to use it for predictions and inference.\n"
     ]
    },
    {
     "data": {
      "application/vnd.jupyter.widget-view+json": {
       "model_id": "8dad4c5788164c6989c55df7ca481832",
       "version_major": 2,
       "version_minor": 0
      },
      "text/plain": [
       "  0%|          | 0/1 [00:00<?, ?it/s]"
      ]
     },
     "metadata": {},
     "output_type": "display_data"
    },
    {
     "name": "stderr",
     "output_type": "stream",
     "text": [
      "/var/folders/k1/dqklgtzs47vckvrkl74mxsxc0000gn/T/ipykernel_1008/3765010246.py:5: DeprecationWarning: Call to deprecated function get_sheet_by_name (Use wb[sheetname]).\n",
      "  load_ws = load_wb.get_sheet_by_name(keyword)\n"
     ]
    },
    {
     "name": "stdout",
     "output_type": "stream",
     "text": [
      "          index\n",
      "count  6.000000\n",
      "mean   2.500000\n",
      "std    1.870829\n",
      "min    0.000000\n",
      "25%    1.250000\n",
      "50%    2.500000\n",
      "75%    3.750000\n",
      "max    5.000000\n"
     ]
    },
    {
     "name": "stderr",
     "output_type": "stream",
     "text": [
      "Some weights of the model checkpoint at klue/roberta-large were not used when initializing RobertaForSequenceClassification: ['lm_head.dense.bias', 'lm_head.layer_norm.weight', 'lm_head.bias', 'lm_head.dense.weight', 'lm_head.decoder.weight', 'lm_head.layer_norm.bias', 'lm_head.decoder.bias']\n",
      "- This IS expected if you are initializing RobertaForSequenceClassification from the checkpoint of a model trained on another task or with another architecture (e.g. initializing a BertForSequenceClassification model from a BertForPreTraining model).\n",
      "- This IS NOT expected if you are initializing RobertaForSequenceClassification from the checkpoint of a model that you expect to be exactly identical (initializing a BertForSequenceClassification model from a BertForSequenceClassification model).\n",
      "Some weights of RobertaForSequenceClassification were not initialized from the model checkpoint at klue/roberta-large and are newly initialized: ['classifier.out_proj.weight', 'classifier.dense.bias', 'classifier.dense.weight', 'classifier.out_proj.bias']\n",
      "You should probably TRAIN this model on a down-stream task to be able to use it for predictions and inference.\n"
     ]
    },
    {
     "data": {
      "application/vnd.jupyter.widget-view+json": {
       "model_id": "779677f9145943e9b76b7fc4dea523f3",
       "version_major": 2,
       "version_minor": 0
      },
      "text/plain": [
       "  0%|          | 0/1 [00:00<?, ?it/s]"
      ]
     },
     "metadata": {},
     "output_type": "display_data"
    },
    {
     "ename": "FileNotFoundError",
     "evalue": "[Errno 2] No such file or directory: './resources/스포츠한국 조은애.xlsx'",
     "output_type": "error",
     "traceback": [
      "\u001b[0;31m---------------------------------------------------------------------------\u001b[0m",
      "\u001b[0;31mFileNotFoundError\u001b[0m                         Traceback (most recent call last)",
      "Cell \u001b[0;32mIn[44], line 2\u001b[0m\n\u001b[1;32m      1\u001b[0m \u001b[39mfor\u001b[39;00m key \u001b[39min\u001b[39;00m top_keywords:\n\u001b[0;32m----> 2\u001b[0m    topic_extract(key)\n",
      "Cell \u001b[0;32mIn[43], line 4\u001b[0m, in \u001b[0;36mtopic_extract\u001b[0;34m(keyword)\u001b[0m\n\u001b[1;32m      3\u001b[0m \u001b[39mdef\u001b[39;00m \u001b[39mtopic_extract\u001b[39m(keyword):\n\u001b[0;32m----> 4\u001b[0m   load_wb \u001b[39m=\u001b[39m load_workbook(\u001b[39m\"\u001b[39;49m\u001b[39m./resources/\u001b[39;49m\u001b[39m\"\u001b[39;49m\u001b[39m+\u001b[39;49mkeyword \u001b[39m+\u001b[39;49m \u001b[39m\"\u001b[39;49m\u001b[39m.xlsx\u001b[39;49m\u001b[39m\"\u001b[39;49m, data_only\u001b[39m=\u001b[39;49m\u001b[39mTrue\u001b[39;49;00m)\n\u001b[1;32m      5\u001b[0m   load_ws \u001b[39m=\u001b[39m load_wb\u001b[39m.\u001b[39mget_sheet_by_name(keyword)\n\u001b[1;32m      6\u001b[0m   test_data \u001b[39m=\u001b[39m \u001b[39mopen\u001b[39m(\u001b[39m\"\u001b[39m\u001b[39mtest_data.csv\u001b[39m\u001b[39m\"\u001b[39m, \u001b[39m\"\u001b[39m\u001b[39mw\u001b[39m\u001b[39m\"\u001b[39m, encoding\u001b[39m=\u001b[39m\u001b[39m\"\u001b[39m\u001b[39mutf-8-sig\u001b[39m\u001b[39m\"\u001b[39m)\n",
      "File \u001b[0;32m~/Documents/crawling/.venv/lib/python3.11/site-packages/openpyxl/reader/excel.py:344\u001b[0m, in \u001b[0;36mload_workbook\u001b[0;34m(filename, read_only, keep_vba, data_only, keep_links, rich_text)\u001b[0m\n\u001b[1;32m    314\u001b[0m \u001b[39mdef\u001b[39;00m \u001b[39mload_workbook\u001b[39m(filename, read_only\u001b[39m=\u001b[39m\u001b[39mFalse\u001b[39;00m, keep_vba\u001b[39m=\u001b[39mKEEP_VBA,\n\u001b[1;32m    315\u001b[0m                   data_only\u001b[39m=\u001b[39m\u001b[39mFalse\u001b[39;00m, keep_links\u001b[39m=\u001b[39m\u001b[39mTrue\u001b[39;00m, rich_text\u001b[39m=\u001b[39m\u001b[39mFalse\u001b[39;00m):\n\u001b[1;32m    316\u001b[0m \u001b[39m    \u001b[39m\u001b[39m\"\"\"Open the given filename and return the workbook\u001b[39;00m\n\u001b[1;32m    317\u001b[0m \n\u001b[1;32m    318\u001b[0m \u001b[39m    :param filename: the path to open or a file-like object\u001b[39;00m\n\u001b[0;32m   (...)\u001b[0m\n\u001b[1;32m    342\u001b[0m \n\u001b[1;32m    343\u001b[0m \u001b[39m    \"\"\"\u001b[39;00m\n\u001b[0;32m--> 344\u001b[0m     reader \u001b[39m=\u001b[39m ExcelReader(filename, read_only, keep_vba,\n\u001b[1;32m    345\u001b[0m                          data_only, keep_links, rich_text)\n\u001b[1;32m    346\u001b[0m     reader\u001b[39m.\u001b[39mread()\n\u001b[1;32m    347\u001b[0m     \u001b[39mreturn\u001b[39;00m reader\u001b[39m.\u001b[39mwb\n",
      "File \u001b[0;32m~/Documents/crawling/.venv/lib/python3.11/site-packages/openpyxl/reader/excel.py:123\u001b[0m, in \u001b[0;36mExcelReader.__init__\u001b[0;34m(self, fn, read_only, keep_vba, data_only, keep_links, rich_text)\u001b[0m\n\u001b[1;32m    121\u001b[0m \u001b[39mdef\u001b[39;00m \u001b[39m__init__\u001b[39m(\u001b[39mself\u001b[39m, fn, read_only\u001b[39m=\u001b[39m\u001b[39mFalse\u001b[39;00m, keep_vba\u001b[39m=\u001b[39mKEEP_VBA,\n\u001b[1;32m    122\u001b[0m              data_only\u001b[39m=\u001b[39m\u001b[39mFalse\u001b[39;00m, keep_links\u001b[39m=\u001b[39m\u001b[39mTrue\u001b[39;00m, rich_text\u001b[39m=\u001b[39m\u001b[39mFalse\u001b[39;00m):\n\u001b[0;32m--> 123\u001b[0m     \u001b[39mself\u001b[39m\u001b[39m.\u001b[39marchive \u001b[39m=\u001b[39m _validate_archive(fn)\n\u001b[1;32m    124\u001b[0m     \u001b[39mself\u001b[39m\u001b[39m.\u001b[39mvalid_files \u001b[39m=\u001b[39m \u001b[39mself\u001b[39m\u001b[39m.\u001b[39marchive\u001b[39m.\u001b[39mnamelist()\n\u001b[1;32m    125\u001b[0m     \u001b[39mself\u001b[39m\u001b[39m.\u001b[39mread_only \u001b[39m=\u001b[39m read_only\n",
      "File \u001b[0;32m~/Documents/crawling/.venv/lib/python3.11/site-packages/openpyxl/reader/excel.py:95\u001b[0m, in \u001b[0;36m_validate_archive\u001b[0;34m(filename)\u001b[0m\n\u001b[1;32m     88\u001b[0m             msg \u001b[39m=\u001b[39m (\u001b[39m'\u001b[39m\u001b[39mopenpyxl does not support \u001b[39m\u001b[39m%s\u001b[39;00m\u001b[39m file format, \u001b[39m\u001b[39m'\u001b[39m\n\u001b[1;32m     89\u001b[0m                    \u001b[39m'\u001b[39m\u001b[39mplease check you can open \u001b[39m\u001b[39m'\u001b[39m\n\u001b[1;32m     90\u001b[0m                    \u001b[39m'\u001b[39m\u001b[39mit with Excel first. \u001b[39m\u001b[39m'\u001b[39m\n\u001b[1;32m     91\u001b[0m                    \u001b[39m'\u001b[39m\u001b[39mSupported formats are: \u001b[39m\u001b[39m%s\u001b[39;00m\u001b[39m'\u001b[39m) \u001b[39m%\u001b[39m (file_format,\n\u001b[1;32m     92\u001b[0m                                                    \u001b[39m'\u001b[39m\u001b[39m,\u001b[39m\u001b[39m'\u001b[39m\u001b[39m.\u001b[39mjoin(SUPPORTED_FORMATS))\n\u001b[1;32m     93\u001b[0m         \u001b[39mraise\u001b[39;00m InvalidFileException(msg)\n\u001b[0;32m---> 95\u001b[0m archive \u001b[39m=\u001b[39m ZipFile(filename, \u001b[39m'\u001b[39;49m\u001b[39mr\u001b[39;49m\u001b[39m'\u001b[39;49m)\n\u001b[1;32m     96\u001b[0m \u001b[39mreturn\u001b[39;00m archive\n",
      "File \u001b[0;32m~/.asdf/installs/python/3.11.3/lib/python3.11/zipfile.py:1283\u001b[0m, in \u001b[0;36mZipFile.__init__\u001b[0;34m(self, file, mode, compression, allowZip64, compresslevel, strict_timestamps, metadata_encoding)\u001b[0m\n\u001b[1;32m   1281\u001b[0m \u001b[39mwhile\u001b[39;00m \u001b[39mTrue\u001b[39;00m:\n\u001b[1;32m   1282\u001b[0m     \u001b[39mtry\u001b[39;00m:\n\u001b[0;32m-> 1283\u001b[0m         \u001b[39mself\u001b[39m\u001b[39m.\u001b[39mfp \u001b[39m=\u001b[39m io\u001b[39m.\u001b[39mopen(file, filemode)\n\u001b[1;32m   1284\u001b[0m     \u001b[39mexcept\u001b[39;00m \u001b[39mOSError\u001b[39;00m:\n\u001b[1;32m   1285\u001b[0m         \u001b[39mif\u001b[39;00m filemode \u001b[39min\u001b[39;00m modeDict:\n",
      "\u001b[0;31mFileNotFoundError\u001b[0m: [Errno 2] No such file or directory: './resources/스포츠한국 조은애.xlsx'"
     ]
    }
   ],
   "source": [
    "for key in top_keywords:\n",
    "   try:\n",
    "      topic_extract(key)\n",
    "   except:\n",
    "      "
   ]
  },
  {
   "attachments": {},
   "cell_type": "markdown",
   "metadata": {},
   "source": [
    "# 6. SEND DATA(json) to SERVER"
   ]
  },
  {
   "cell_type": "code",
   "execution_count": null,
   "metadata": {},
   "outputs": [],
   "source": [
    "import json\n",
    "\n",
    "with open(\"data.json\", 'r', encoding=\"utf-8-sig\") as f:\n",
    "    myJson = {}\n",
    "    myJson[\"keywords\"] = top_keywords\n",
    "    myJson[\"topics\"] = topics\n",
    "    myJson[\"links\"] = links\n",
    "    myJson[\"summaries\"] = summaries\n",
    "\n",
    "with open(\"/Users/eugene/Downloads/startbootstrap-creative-gh-pages/data.json\", 'w+', encoding=\"utf-8-sig\") as f:\n",
    "    json.dump(myJson, f, ensure_ascii=False)\n"
   ]
  },
  {
   "cell_type": "code",
   "execution_count": null,
   "metadata": {},
   "outputs": [],
   "source": [
    "\n",
    "stopwords = \"\"\"\n",
    "아\n",
    "휴\n",
    "아이구\n",
    "아이쿠\n",
    "아이고\n",
    "어\n",
    "나\n",
    "우리\n",
    "저희\n",
    "따라\n",
    "의해\n",
    "을\n",
    "를\n",
    "에\n",
    "의\n",
    "가\n",
    "으로\n",
    "로\n",
    "에게\n",
    "뿐이다\n",
    "의거하여\n",
    "근거하여\n",
    "입각하여\n",
    "기준으로\n",
    "예하면\n",
    "예를 들면\n",
    "예를 들자면\n",
    "저\n",
    "소인\n",
    "소생\n",
    "저희\n",
    "지말고\n",
    "하지마\n",
    "하지마라\n",
    "다른\n",
    "물론\n",
    "또한\n",
    "그리고\n",
    "비길수 없다\n",
    "해서는 안된다\n",
    "뿐만 아니라\n",
    "만이 아니다\n",
    "만은 아니다\n",
    "막론하고\n",
    "관계없이\n",
    "그치지 않다\n",
    "그러나\n",
    "그런데\n",
    "하지만\n",
    "든간에\n",
    "논하지 않다\n",
    "따지지 않다\n",
    "설사\n",
    "비록\n",
    "더라도\n",
    "아니면\n",
    "만 못하다\n",
    "하는 편이 낫다\n",
    "불문하고\n",
    "향하여\n",
    "향해서\n",
    "향하다\n",
    "쪽으로\n",
    "틈타\n",
    "이용하여\n",
    "타다\n",
    "오르다\n",
    "제외하고\n",
    "이 외에\n",
    "이 밖에\n",
    "하여야\n",
    "비로소\n",
    "한다면 몰라도\n",
    "외에도\n",
    "이곳\n",
    "여기\n",
    "부터\n",
    "기점으로\n",
    "따라서\n",
    "할 생각이다\n",
    "하려고하다\n",
    "이리하여\n",
    "그리하여\n",
    "그렇게 함으로써\n",
    "하지만\n",
    "일때\n",
    "할때\n",
    "앞에서\n",
    "중에서\n",
    "보는데서\n",
    "으로써\n",
    "로써\n",
    "까지\n",
    "해야한다\n",
    "일것이다\n",
    "반드시\n",
    "할줄알다\n",
    "할수있다\n",
    "할수있어\n",
    "임에 틀림없다\n",
    "한다면\n",
    "등\n",
    "등등\n",
    "제\n",
    "겨우\n",
    "단지\n",
    "다만\n",
    "할뿐\n",
    "딩동\n",
    "댕그\n",
    "대해서\n",
    "대하여\n",
    "대하면\n",
    "훨씬\n",
    "얼마나\n",
    "얼마만큼\n",
    "얼마큼\n",
    "남짓\n",
    "여\n",
    "얼마간\n",
    "약간\n",
    "다소\n",
    "좀\n",
    "조금\n",
    "다수\n",
    "몇\n",
    "얼마\n",
    "지만\n",
    "하물며\n",
    "또한\n",
    "그러나\n",
    "그렇지만\n",
    "하지만\n",
    "이외에도\n",
    "대해 말하자면\n",
    "뿐이다\n",
    "다음에\n",
    "반대로\n",
    "반대로 말하자면\n",
    "이와 반대로\n",
    "바꾸어서 말하면\n",
    "바꾸어서 한다면\n",
    "만약\n",
    "그렇지않으면\n",
    "까악\n",
    "툭\n",
    "딱\n",
    "삐걱거리다\n",
    "보드득\n",
    "비걱거리다\n",
    "꽈당\n",
    "응당\n",
    "해야한다\n",
    "에 가서\n",
    "각\n",
    "각각\n",
    "여러분\n",
    "각종\n",
    "각자\n",
    "제각기\n",
    "하도록하다\n",
    "와\n",
    "과\n",
    "그러므로\n",
    "그래서\n",
    "고로\n",
    "한 까닭에\n",
    "하기 때문에\n",
    "거니와\n",
    "이지만\n",
    "대하여\n",
    "관하여\n",
    "관한\n",
    "과연\n",
    "실로\n",
    "아니나다를가\n",
    "생각한대로\n",
    "진짜로\n",
    "한적이있다\n",
    "하곤하였다\n",
    "하\n",
    "하하\n",
    "허허\n",
    "아하\n",
    "거바\n",
    "와\n",
    "오\n",
    "왜\n",
    "어째서\n",
    "무엇때문에\n",
    "어찌\n",
    "하겠는가\n",
    "무슨\n",
    "어디\n",
    "어느곳\n",
    "더군다나\n",
    "하물며\n",
    "더욱이는\n",
    "어느때\n",
    "언제\n",
    "야\n",
    "이봐\n",
    "어이\n",
    "여보시오\n",
    "흐흐\n",
    "흥\n",
    "휴\n",
    "헉헉\n",
    "헐떡헐떡\n",
    "영차\n",
    "여차\n",
    "어기여차\n",
    "끙끙\n",
    "아야\n",
    "앗\n",
    "아야\n",
    "콸콸\n",
    "졸졸\n",
    "좍좍\n",
    "뚝뚝\n",
    "주룩주룩\n",
    "솨\n",
    "우르르\n",
    "그래도\n",
    "또\n",
    "그리고\n",
    "바꾸어말하면\n",
    "바꾸어말하자면\n",
    "혹은\n",
    "혹시\n",
    "답다\n",
    "및\n",
    "그에 따르는\n",
    "때가 되어\n",
    "즉\n",
    "지든지\n",
    "설령\n",
    "가령\n",
    "하더라도\n",
    "할지라도\n",
    "일지라도\n",
    "지든지\n",
    "몇\n",
    "거의\n",
    "하마터면\n",
    "인젠\n",
    "이젠\n",
    "된바에야\n",
    "된이상\n",
    "만큼\t어찌됏든\n",
    "그위에\n",
    "게다가\n",
    "점에서 보아\n",
    "비추어 보아\n",
    "고려하면\n",
    "하게될것이다\n",
    "일것이다\n",
    "비교적\n",
    "좀\n",
    "보다더\n",
    "비하면\n",
    "시키다\n",
    "하게하다\n",
    "할만하다\n",
    "의해서\n",
    "연이서\n",
    "이어서\n",
    "잇따라\n",
    "뒤따라\n",
    "뒤이어\n",
    "결국\n",
    "의지하여\n",
    "기대여\n",
    "통하여\n",
    "자마자\n",
    "더욱더\n",
    "불구하고\n",
    "얼마든지\n",
    "마음대로\n",
    "주저하지 않고\n",
    "곧\n",
    "즉시\n",
    "바로\n",
    "당장\n",
    "하자마자\n",
    "밖에 안된다\n",
    "하면된다\n",
    "그래\n",
    "그렇지\n",
    "요컨대\n",
    "다시 말하자면\n",
    "바꿔 말하면\n",
    "즉\n",
    "구체적으로\n",
    "말하자면\n",
    "시작하여\n",
    "시초에\n",
    "이상\n",
    "허\n",
    "헉\n",
    "허걱\n",
    "바와같이\n",
    "해도좋다\n",
    "해도된다\n",
    "게다가\n",
    "더구나\n",
    "하물며\n",
    "와르르\n",
    "팍\n",
    "퍽\n",
    "펄렁\n",
    "동안\n",
    "이래\n",
    "하고있었다\n",
    "이었다\n",
    "에서\n",
    "로부터\n",
    "까지\n",
    "예하면\n",
    "했어요\n",
    "해요\n",
    "함께\n",
    "같이\n",
    "더불어\n",
    "마저\n",
    "마저도\n",
    "양자\n",
    "모두\n",
    "습니다\n",
    "가까스로\n",
    "하려고하다\n",
    "즈음하여\n",
    "다른\n",
    "다른 방면으로\n",
    "해봐요\n",
    "습니까\n",
    "했어요\n",
    "말할것도 없고\n",
    "무릎쓰고\n",
    "개의치않고\n",
    "하는것만 못하다\n",
    "하는것이 낫다\n",
    "매\n",
    "매번\n",
    "들\n",
    "모\n",
    "어느것\n",
    "어느\n",
    "로써\n",
    "갖고말하자면\n",
    "어디\n",
    "어느쪽\n",
    "어느것\n",
    "어느해\n",
    "어느 년도\n",
    "라 해도\n",
    "언젠가\n",
    "어떤것\n",
    "어느것\n",
    "저기\n",
    "저쪽\n",
    "저것\n",
    "그때\n",
    "그럼\n",
    "그러면\n",
    "요만한걸\n",
    "그래\n",
    "그때\n",
    "저것만큼\n",
    "그저\n",
    "이르기까지\n",
    "할 줄 안다\n",
    "할 힘이 있다\n",
    "너\n",
    "너희\n",
    "당신\n",
    "어찌\n",
    "설마\n",
    "차라리\n",
    "할지언정\n",
    "할지라도\n",
    "할망정\n",
    "할지언정\n",
    "구토하다\n",
    "게우다\n",
    "토하다\n",
    "메쓰겁다\n",
    "옆사람\n",
    "퉤\n",
    "쳇\n",
    "의거하여\n",
    "근거하여\n",
    "의해\n",
    "따라\n",
    "힘입어\n",
    "그\n",
    "다음\n",
    "버금\n",
    "두번째로\n",
    "기타\n",
    "첫번째로\n",
    "나머지는\n",
    "그중에서\n",
    "견지에서\n",
    "형식으로 쓰여\n",
    "입장에서\n",
    "위해서\n",
    "단지\n",
    "의해되다\n",
    "하도록시키다\n",
    "뿐만아니라\n",
    "반대로\n",
    "전후\n",
    "전자\n",
    "앞의것\n",
    "잠시\n",
    "잠깐\n",
    "하면서\n",
    "그렇지만\n",
    "다음에\n",
    "그러한즉\n",
    "그런즉\n",
    "남들\n",
    "아무거나\n",
    "어찌하든지\n",
    "같다\n",
    "비슷하다\n",
    "예컨대\n",
    "이럴정도로\n",
    "어떻게\n",
    "만약\n",
    "만일\n",
    "위에서 서술한바와같이\n",
    "인 듯하다\n",
    "하지 않는다면\n",
    "만약에\n",
    "무엇\n",
    "무슨\n",
    "어느\n",
    "어떤\n",
    "아래윗\n",
    "조차\n",
    "한데\n",
    "그럼에도 불구하고\n",
    "여전히\n",
    "심지어\n",
    "까지도\n",
    "조차도\n",
    "하지 않도록\n",
    "않기 위하여\n",
    "때\n",
    "시각\n",
    "무렵\n",
    "시간\n",
    "동안\n",
    "어때\n",
    "어떠한\n",
    "하여금\n",
    "네\n",
    "예\n",
    "우선\n",
    "누구\n",
    "누가 알겠는가\n",
    "아무도\n",
    "줄은모른다\n",
    "줄은 몰랏다\n",
    "하는 김에\n",
    "겸사겸사\n",
    "하는바\n",
    "그런 까닭에\n",
    "한 이유는\n",
    "그러니\n",
    "그러니까\n",
    "때문에\n",
    "그\n",
    "너희\n",
    "그들\n",
    "너희들\n",
    "타인\n",
    "것\n",
    "것들\n",
    "너\n",
    "위하여\n",
    "공동으로\n",
    "동시에\n",
    "하기 위하여\n",
    "어찌하여\n",
    "무엇때문에\n",
    "붕붕\n",
    "윙윙\n",
    "나\n",
    "우리\n",
    "엉엉\n",
    "휘익\n",
    "윙윙\n",
    "오호\n",
    "아하\n",
    "어쨋든\n",
    "만 못하다\t하기보다는\n",
    "차라리\n",
    "하는 편이 낫다\n",
    "흐흐\n",
    "놀라다\n",
    "상대적으로 말하자면\n",
    "마치\n",
    "아니라면\n",
    "쉿\n",
    "그렇지 않으면\n",
    "그렇지 않다면\n",
    "안 그러면\n",
    "아니었다면\n",
    "하든지\n",
    "아니면\n",
    "이라면\n",
    "좋아\n",
    "알았어\n",
    "하는것도\n",
    "그만이다\n",
    "어쩔수 없다\n",
    "하나\n",
    "일\n",
    "일반적으로\n",
    "일단\n",
    "한켠으로는\n",
    "오자마자\n",
    "이렇게되면\n",
    "이와같다면\n",
    "전부\n",
    "한마디\n",
    "한항목\n",
    "근거로\n",
    "하기에\n",
    "아울러\n",
    "하지 않도록\n",
    "않기 위해서\n",
    "이르기까지\n",
    "이 되다\n",
    "로 인하여\n",
    "까닭으로\n",
    "이유만으로\n",
    "이로 인하여\n",
    "그래서\n",
    "이 때문에\n",
    "그러므로\n",
    "그런 까닭에\n",
    "알 수 있다\n",
    "결론을 낼 수 있다\n",
    "으로 인하여\n",
    "있다\n",
    "어떤것\n",
    "관계가 있다\n",
    "관련이 있다\n",
    "연관되다\n",
    "어떤것들\n",
    "에 대해\n",
    "이리하여\n",
    "그리하여\n",
    "여부\n",
    "하기보다는\n",
    "하느니\n",
    "하면 할수록\n",
    "운운\n",
    "이러이러하다\n",
    "하구나\n",
    "하도다\n",
    "다시말하면\n",
    "다음으로\n",
    "에 있다\n",
    "에 달려 있다\n",
    "우리\n",
    "우리들\n",
    "오히려\n",
    "하기는한데\n",
    "어떻게\n",
    "어떻해\n",
    "어찌됏어\n",
    "어때\n",
    "어째서\n",
    "본대로\n",
    "자\n",
    "이\n",
    "이쪽\n",
    "여기\n",
    "이것\n",
    "이번\n",
    "이렇게말하자면\n",
    "이런\n",
    "이러한\n",
    "이와 같은\n",
    "요만큼\n",
    "요만한 것\n",
    "얼마 안 되는 것\n",
    "이만큼\n",
    "이 정도의\n",
    "이렇게 많은 것\n",
    "이와 같다\n",
    "이때\n",
    "이렇구나\n",
    "것과 같이\n",
    "끼익\n",
    "삐걱\n",
    "따위\n",
    "와 같은 사람들\n",
    "부류의 사람들\n",
    "왜냐하면\n",
    "중의하나\n",
    "오직\n",
    "오로지\n",
    "에 한하다\n",
    "하기만 하면\n",
    "도착하다\n",
    "까지 미치다\n",
    "도달하다\n",
    "정도에 이르다\n",
    "할 지경이다\n",
    "결과에 이르다\n",
    "관해서는\n",
    "여러분\n",
    "하고 있다\n",
    "한 후\n",
    "혼자\n",
    "자기\n",
    "자기집\n",
    "자신\n",
    "우에 종합한것과같이\n",
    "총적으로 보면\n",
    "총적으로 말하면\n",
    "총적으로\n",
    "대로 하다\n",
    "으로서\n",
    "참\n",
    "그만이다\n",
    "할 따름이다\n",
    "쿵\n",
    "탕탕\n",
    "쾅쾅\n",
    "둥둥\n",
    "봐\n",
    "봐라\n",
    "아이야\n",
    "아니\n",
    "와아\n",
    "응\n",
    "아이\n",
    "참나\n",
    "년\n",
    "월\n",
    "일\n",
    "령\n",
    "영\n",
    "일\n",
    "이\n",
    "삼\n",
    "사\n",
    "오\n",
    "육\n",
    "륙\n",
    "칠\n",
    "팔\n",
    "구\n",
    "이천육\n",
    "이천칠\n",
    "이천팔\n",
    "이천구\n",
    "하나\n",
    "둘\n",
    "셋\n",
    "넷\n",
    "다섯\n",
    "여섯\n",
    "일곱\n",
    "여덟\n",
    "아홉\n",
    "령\n",
    "영\n",
    "\"\"\".split()"
   ]
  }
 ],
 "metadata": {
  "kernelspec": {
   "display_name": ".venv",
   "language": "python",
   "name": "python3"
  },
  "language_info": {
   "codemirror_mode": {
    "name": "ipython",
    "version": 3
   },
   "file_extension": ".py",
   "mimetype": "text/x-python",
   "name": "python",
   "nbconvert_exporter": "python",
   "pygments_lexer": "ipython3",
   "version": "3.11.3"
  },
  "orig_nbformat": 4
 },
 "nbformat": 4,
 "nbformat_minor": 2
}
